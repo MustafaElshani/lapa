{
 "cells": [
  {
   "cell_type": "code",
   "execution_count": 1,
   "id": "worst-neutral",
   "metadata": {},
   "outputs": [],
   "source": [
    "import os\n",
    "\n",
    "try:\n",
    "    snakemake\n",
    "except NameError:\n",
    "    from snakemk_util import load_rule_args\n",
    "    \n",
    "    os.chdir('../..')\n",
    "    \n",
    "    snakemake = load_rule_args(\n",
    "        snakefile = os.getcwd() + \"/workflow/Snakefile\",\n",
    "        rule_name = 'link_to_transcript',\n",
    "        root = '..',\n",
    "        default_wildcards={'library_prep': 'cDNA', 'platform': 'PacBio', 'counting': 'end'}\n",
    "    )"
   ]
  },
  {
   "cell_type": "code",
   "execution_count": 2,
   "id": "prepared-nightlife",
   "metadata": {},
   "outputs": [],
   "source": [
    "import functools\n",
    "import numpy as np\n",
    "import pandas as pd\n",
    "import pyranges as pr\n",
    "import matplotlib.pyplot as plt\n",
    "from lapa.result import LapaResult\n",
    "from lapa.utils.io import read_talon_read_annot"
   ]
  },
  {
   "cell_type": "code",
   "execution_count": 3,
   "id": "transsexual-rider",
   "metadata": {},
   "outputs": [],
   "source": [
    "result = LapaResult(snakemake.input['quantseq_lapa_dir'], tpm_cutoff=0)\n",
    "\n",
    "df_quantseq = result.read_cluster().drop_duplicates(\n",
    "    subset=['Chromosome', 'polyA_site', 'Strand'])\n",
    "df_quantseq['Start'] = df_quantseq['polyA_site'] - 1\n",
    "df_quantseq['End'] = df_quantseq['polyA_site']\n",
    "\n",
    "gr_quantseq = pr.PyRanges(df_quantseq, int64=True)"
   ]
  },
  {
   "cell_type": "code",
   "execution_count": 4,
   "id": "infinite-photographer",
   "metadata": {},
   "outputs": [],
   "source": [
    "gr_cage = functools.reduce(\n",
    "    lambda gr_x, gr_y: gr_x.merge(gr_y),\n",
    "    [pr.read_bed(i) for i in snakemake.input['cage']]\n",
    ")\n",
    "gr_cage = pr.PyRanges(gr_cage.df, int64=True)"
   ]
  },
  {
   "cell_type": "code",
   "execution_count": 5,
   "id": "digital-weekend",
   "metadata": {},
   "outputs": [],
   "source": [
    "df_links = pd.read_csv(snakemake.input['links']) \\\n",
    "    .astype({'polyA_site': 'int', 'start_site': 'int'})"
   ]
  },
  {
   "cell_type": "code",
   "execution_count": 6,
   "id": "unlikely-faith",
   "metadata": {},
   "outputs": [],
   "source": [
    "df_abundance = pd.read_csv(snakemake.input['abundance'], sep='\\t')"
   ]
  },
  {
   "cell_type": "code",
   "execution_count": 7,
   "id": "suited-single",
   "metadata": {},
   "outputs": [],
   "source": [
    "df_reads = read_talon_read_annot(snakemake.input['read_annot'])[[\n",
    "    'Chromosome', 'Strand', 'transcript_id', 'read_name']]"
   ]
  },
  {
   "cell_type": "code",
   "execution_count": 8,
   "id": "settled-vision",
   "metadata": {},
   "outputs": [],
   "source": [
    "df_reads = df_reads[df_reads['transcript_id'].isin(df_abundance['annot_transcript_id'])]"
   ]
  },
  {
   "cell_type": "code",
   "execution_count": 9,
   "id": "grave-warning",
   "metadata": {},
   "outputs": [],
   "source": [
    "df = df_reads.set_index('read_name').join(\n",
    "    df_links.set_index('read_name')[\n",
    "        ['read_Start', 'read_End', 'start_site', 'polyA_site']\n",
    "    ], how='inner')\n",
    "\n",
    "# df = df[(df['start_site'] != -1) & (df['polyA_site'] != -1)]"
   ]
  },
  {
   "cell_type": "code",
   "execution_count": 10,
   "id": "serious-major",
   "metadata": {},
   "outputs": [
    {
     "data": {
      "text/html": [
       "<div>\n",
       "<style scoped>\n",
       "    .dataframe tbody tr th:only-of-type {\n",
       "        vertical-align: middle;\n",
       "    }\n",
       "\n",
       "    .dataframe tbody tr th {\n",
       "        vertical-align: top;\n",
       "    }\n",
       "\n",
       "    .dataframe thead th {\n",
       "        text-align: right;\n",
       "    }\n",
       "</style>\n",
       "<table border=\"1\" class=\"dataframe\">\n",
       "  <thead>\n",
       "    <tr style=\"text-align: right;\">\n",
       "      <th></th>\n",
       "      <th>Chromosome</th>\n",
       "      <th>Strand</th>\n",
       "      <th>transcript_id</th>\n",
       "      <th>read_Start</th>\n",
       "      <th>read_End</th>\n",
       "      <th>start_site</th>\n",
       "      <th>polyA_site</th>\n",
       "    </tr>\n",
       "    <tr>\n",
       "      <th>read_name</th>\n",
       "      <th></th>\n",
       "      <th></th>\n",
       "      <th></th>\n",
       "      <th></th>\n",
       "      <th></th>\n",
       "      <th></th>\n",
       "      <th></th>\n",
       "    </tr>\n",
       "  </thead>\n",
       "  <tbody>\n",
       "    <tr>\n",
       "      <th>m54284U_201023_135811/657715/ccs</th>\n",
       "      <td>ERCC-00002</td>\n",
       "      <td>+</td>\n",
       "      <td>human_WTC11_cDNA_PacBio_longT000237014</td>\n",
       "      <td>1</td>\n",
       "      <td>1043</td>\n",
       "      <td>2</td>\n",
       "      <td>1043</td>\n",
       "    </tr>\n",
       "    <tr>\n",
       "      <th>m54284U_201023_135811/1245744/ccs</th>\n",
       "      <td>ERCC-00002</td>\n",
       "      <td>+</td>\n",
       "      <td>human_WTC11_cDNA_PacBio_longT000237014</td>\n",
       "      <td>1</td>\n",
       "      <td>1043</td>\n",
       "      <td>2</td>\n",
       "      <td>1043</td>\n",
       "    </tr>\n",
       "    <tr>\n",
       "      <th>m54284U_201023_135811/1378501/ccs</th>\n",
       "      <td>ERCC-00002</td>\n",
       "      <td>+</td>\n",
       "      <td>human_WTC11_cDNA_PacBio_longT000237014</td>\n",
       "      <td>1</td>\n",
       "      <td>1044</td>\n",
       "      <td>2</td>\n",
       "      <td>1043</td>\n",
       "    </tr>\n",
       "    <tr>\n",
       "      <th>m54284U_201023_135811/1769949/ccs</th>\n",
       "      <td>ERCC-00002</td>\n",
       "      <td>+</td>\n",
       "      <td>human_WTC11_cDNA_PacBio_longT000237014</td>\n",
       "      <td>1</td>\n",
       "      <td>1045</td>\n",
       "      <td>2</td>\n",
       "      <td>1043</td>\n",
       "    </tr>\n",
       "    <tr>\n",
       "      <th>m54284U_201023_135811/3345068/ccs</th>\n",
       "      <td>ERCC-00002</td>\n",
       "      <td>+</td>\n",
       "      <td>human_WTC11_cDNA_PacBio_longT000237014</td>\n",
       "      <td>1</td>\n",
       "      <td>1043</td>\n",
       "      <td>2</td>\n",
       "      <td>1043</td>\n",
       "    </tr>\n",
       "    <tr>\n",
       "      <th>...</th>\n",
       "      <td>...</td>\n",
       "      <td>...</td>\n",
       "      <td>...</td>\n",
       "      <td>...</td>\n",
       "      <td>...</td>\n",
       "      <td>...</td>\n",
       "      <td>...</td>\n",
       "    </tr>\n",
       "    <tr>\n",
       "      <th>m54284U_201123_202240/71566296/ccs</th>\n",
       "      <td>chr22</td>\n",
       "      <td>+</td>\n",
       "      <td>ENST00000462238.5</td>\n",
       "      <td>50783817</td>\n",
       "      <td>50799178</td>\n",
       "      <td>50783797</td>\n",
       "      <td>50799178</td>\n",
       "    </tr>\n",
       "    <tr>\n",
       "      <th>m54284U_201028_155127/45155970/ccs</th>\n",
       "      <td>chr22</td>\n",
       "      <td>+</td>\n",
       "      <td>ENST00000462238.5</td>\n",
       "      <td>50783819</td>\n",
       "      <td>50799171</td>\n",
       "      <td>50783797</td>\n",
       "      <td>50799178</td>\n",
       "    </tr>\n",
       "    <tr>\n",
       "      <th>m54284U_201121_072510/6031995/ccs</th>\n",
       "      <td>chr22</td>\n",
       "      <td>+</td>\n",
       "      <td>ENST00000651346.1</td>\n",
       "      <td>50783828</td>\n",
       "      <td>50799178</td>\n",
       "      <td>50783797</td>\n",
       "      <td>50799178</td>\n",
       "    </tr>\n",
       "    <tr>\n",
       "      <th>m54284U_201027_092252/63833517/ccs</th>\n",
       "      <td>chr22</td>\n",
       "      <td>+</td>\n",
       "      <td>ENST00000651346.1</td>\n",
       "      <td>50783836</td>\n",
       "      <td>50799178</td>\n",
       "      <td>50783797</td>\n",
       "      <td>50799178</td>\n",
       "    </tr>\n",
       "    <tr>\n",
       "      <th>m54284U_201123_202240/94964059/ccs</th>\n",
       "      <td>chr22</td>\n",
       "      <td>+</td>\n",
       "      <td>ENST00000651346.1</td>\n",
       "      <td>50783852</td>\n",
       "      <td>50799178</td>\n",
       "      <td>50783797</td>\n",
       "      <td>50799178</td>\n",
       "    </tr>\n",
       "  </tbody>\n",
       "</table>\n",
       "<p>5827528 rows × 7 columns</p>\n",
       "</div>"
      ],
      "text/plain": [
       "                                    Chromosome Strand  \\\n",
       "read_name                                               \n",
       "m54284U_201023_135811/657715/ccs    ERCC-00002      +   \n",
       "m54284U_201023_135811/1245744/ccs   ERCC-00002      +   \n",
       "m54284U_201023_135811/1378501/ccs   ERCC-00002      +   \n",
       "m54284U_201023_135811/1769949/ccs   ERCC-00002      +   \n",
       "m54284U_201023_135811/3345068/ccs   ERCC-00002      +   \n",
       "...                                        ...    ...   \n",
       "m54284U_201123_202240/71566296/ccs       chr22      +   \n",
       "m54284U_201028_155127/45155970/ccs       chr22      +   \n",
       "m54284U_201121_072510/6031995/ccs        chr22      +   \n",
       "m54284U_201027_092252/63833517/ccs       chr22      +   \n",
       "m54284U_201123_202240/94964059/ccs       chr22      +   \n",
       "\n",
       "                                                             transcript_id  \\\n",
       "read_name                                                                    \n",
       "m54284U_201023_135811/657715/ccs    human_WTC11_cDNA_PacBio_longT000237014   \n",
       "m54284U_201023_135811/1245744/ccs   human_WTC11_cDNA_PacBio_longT000237014   \n",
       "m54284U_201023_135811/1378501/ccs   human_WTC11_cDNA_PacBio_longT000237014   \n",
       "m54284U_201023_135811/1769949/ccs   human_WTC11_cDNA_PacBio_longT000237014   \n",
       "m54284U_201023_135811/3345068/ccs   human_WTC11_cDNA_PacBio_longT000237014   \n",
       "...                                                                    ...   \n",
       "m54284U_201123_202240/71566296/ccs                       ENST00000462238.5   \n",
       "m54284U_201028_155127/45155970/ccs                       ENST00000462238.5   \n",
       "m54284U_201121_072510/6031995/ccs                        ENST00000651346.1   \n",
       "m54284U_201027_092252/63833517/ccs                       ENST00000651346.1   \n",
       "m54284U_201123_202240/94964059/ccs                       ENST00000651346.1   \n",
       "\n",
       "                                    read_Start  read_End  start_site  \\\n",
       "read_name                                                              \n",
       "m54284U_201023_135811/657715/ccs             1      1043           2   \n",
       "m54284U_201023_135811/1245744/ccs            1      1043           2   \n",
       "m54284U_201023_135811/1378501/ccs            1      1044           2   \n",
       "m54284U_201023_135811/1769949/ccs            1      1045           2   \n",
       "m54284U_201023_135811/3345068/ccs            1      1043           2   \n",
       "...                                        ...       ...         ...   \n",
       "m54284U_201123_202240/71566296/ccs    50783817  50799178    50783797   \n",
       "m54284U_201028_155127/45155970/ccs    50783819  50799171    50783797   \n",
       "m54284U_201121_072510/6031995/ccs     50783828  50799178    50783797   \n",
       "m54284U_201027_092252/63833517/ccs    50783836  50799178    50783797   \n",
       "m54284U_201123_202240/94964059/ccs    50783852  50799178    50783797   \n",
       "\n",
       "                                    polyA_site  \n",
       "read_name                                       \n",
       "m54284U_201023_135811/657715/ccs          1043  \n",
       "m54284U_201023_135811/1245744/ccs         1043  \n",
       "m54284U_201023_135811/1378501/ccs         1043  \n",
       "m54284U_201023_135811/1769949/ccs         1043  \n",
       "m54284U_201023_135811/3345068/ccs         1043  \n",
       "...                                        ...  \n",
       "m54284U_201123_202240/71566296/ccs    50799178  \n",
       "m54284U_201028_155127/45155970/ccs    50799178  \n",
       "m54284U_201121_072510/6031995/ccs     50799178  \n",
       "m54284U_201027_092252/63833517/ccs    50799178  \n",
       "m54284U_201123_202240/94964059/ccs    50799178  \n",
       "\n",
       "[5827528 rows x 7 columns]"
      ]
     },
     "execution_count": 10,
     "metadata": {},
     "output_type": "execute_result"
    }
   ],
   "source": [
    "df"
   ]
  },
  {
   "cell_type": "code",
   "execution_count": 11,
   "id": "closed-framework",
   "metadata": {},
   "outputs": [],
   "source": [
    "df_linked = df.groupby(['Chromosome', 'transcript_id', 'start_site', 'polyA_site', 'Strand']) \\\n",
    "    .size().reset_index().rename(columns={0: 'count'})"
   ]
  },
  {
   "cell_type": "code",
   "execution_count": 12,
   "id": "received-aaron",
   "metadata": {},
   "outputs": [],
   "source": [
    "df_linked['End'] = df_linked['start_site']\n",
    "df_linked['Start'] = df_linked['End'] - 1"
   ]
  },
  {
   "cell_type": "code",
   "execution_count": 13,
   "id": "twenty-membership",
   "metadata": {},
   "outputs": [],
   "source": [
    "gr_cage.cage_support = True"
   ]
  },
  {
   "cell_type": "code",
   "execution_count": 14,
   "id": "muslim-ambassador",
   "metadata": {},
   "outputs": [],
   "source": [
    "gr_quantseq = gr_quantseq.drop()\n",
    "gr_quantseq.polya_support = True"
   ]
  },
  {
   "cell_type": "code",
   "execution_count": 15,
   "id": "least-memphis",
   "metadata": {},
   "outputs": [],
   "source": [
    "import warnings\n",
    "warnings.simplefilter(action='ignore', category=FutureWarning)"
   ]
  },
  {
   "cell_type": "code",
   "execution_count": 16,
   "id": "measured-emission",
   "metadata": {
    "scrolled": false
   },
   "outputs": [],
   "source": [
    "_df = pr.PyRanges(df_linked, int64=True).join(gr_cage, how='left') \\\n",
    "    .df.drop(columns=['End', 'Start', 'Start_b','End_b', 'Strand_b'])"
   ]
  },
  {
   "cell_type": "code",
   "execution_count": 17,
   "id": "cooperative-number",
   "metadata": {},
   "outputs": [],
   "source": [
    "_df['End'] = _df['polyA_site']\n",
    "_df['Start'] = _df['End'] - 1"
   ]
  },
  {
   "cell_type": "code",
   "execution_count": 18,
   "id": "cordless-worry",
   "metadata": {},
   "outputs": [
    {
     "data": {
      "text/html": [
       "<div>\n",
       "<style scoped>\n",
       "    .dataframe tbody tr th:only-of-type {\n",
       "        vertical-align: middle;\n",
       "    }\n",
       "\n",
       "    .dataframe tbody tr th {\n",
       "        vertical-align: top;\n",
       "    }\n",
       "\n",
       "    .dataframe thead th {\n",
       "        text-align: right;\n",
       "    }\n",
       "</style>\n",
       "<table border=\"1\" class=\"dataframe\">\n",
       "  <thead>\n",
       "    <tr style=\"text-align: right;\">\n",
       "      <th></th>\n",
       "      <th>Chromosome</th>\n",
       "      <th>transcript_id</th>\n",
       "      <th>start_site</th>\n",
       "      <th>polyA_site</th>\n",
       "      <th>Strand</th>\n",
       "      <th>count</th>\n",
       "      <th>cage_support</th>\n",
       "      <th>End</th>\n",
       "      <th>Start</th>\n",
       "    </tr>\n",
       "  </thead>\n",
       "  <tbody>\n",
       "    <tr>\n",
       "      <th>0</th>\n",
       "      <td>ERCC-00002</td>\n",
       "      <td>human_WTC11_cDNA_PacBio_longT000237014</td>\n",
       "      <td>2</td>\n",
       "      <td>156</td>\n",
       "      <td>+</td>\n",
       "      <td>6</td>\n",
       "      <td>-1</td>\n",
       "      <td>156</td>\n",
       "      <td>155</td>\n",
       "    </tr>\n",
       "    <tr>\n",
       "      <th>1</th>\n",
       "      <td>ERCC-00002</td>\n",
       "      <td>human_WTC11_cDNA_PacBio_longT000237014</td>\n",
       "      <td>2</td>\n",
       "      <td>215</td>\n",
       "      <td>+</td>\n",
       "      <td>7</td>\n",
       "      <td>-1</td>\n",
       "      <td>215</td>\n",
       "      <td>214</td>\n",
       "    </tr>\n",
       "    <tr>\n",
       "      <th>2</th>\n",
       "      <td>ERCC-00002</td>\n",
       "      <td>human_WTC11_cDNA_PacBio_longT000237014</td>\n",
       "      <td>2</td>\n",
       "      <td>1043</td>\n",
       "      <td>+</td>\n",
       "      <td>18574</td>\n",
       "      <td>-1</td>\n",
       "      <td>1043</td>\n",
       "      <td>1042</td>\n",
       "    </tr>\n",
       "    <tr>\n",
       "      <th>3</th>\n",
       "      <td>ERCC-00002</td>\n",
       "      <td>human_WTC11_cDNA_PacBio_longT000237014</td>\n",
       "      <td>337</td>\n",
       "      <td>1043</td>\n",
       "      <td>+</td>\n",
       "      <td>184</td>\n",
       "      <td>-1</td>\n",
       "      <td>1043</td>\n",
       "      <td>1042</td>\n",
       "    </tr>\n",
       "    <tr>\n",
       "      <th>4</th>\n",
       "      <td>ERCC-00002</td>\n",
       "      <td>human_WTC11_cDNA_PacBio_longT000237014</td>\n",
       "      <td>415</td>\n",
       "      <td>1043</td>\n",
       "      <td>+</td>\n",
       "      <td>194</td>\n",
       "      <td>-1</td>\n",
       "      <td>1043</td>\n",
       "      <td>1042</td>\n",
       "    </tr>\n",
       "    <tr>\n",
       "      <th>...</th>\n",
       "      <td>...</td>\n",
       "      <td>...</td>\n",
       "      <td>...</td>\n",
       "      <td>...</td>\n",
       "      <td>...</td>\n",
       "      <td>...</td>\n",
       "      <td>...</td>\n",
       "      <td>...</td>\n",
       "      <td>...</td>\n",
       "    </tr>\n",
       "    <tr>\n",
       "      <th>248259</th>\n",
       "      <td>chrY</td>\n",
       "      <td>human_WTC11_cDNA_PacBio_longT000588235</td>\n",
       "      <td>19744722</td>\n",
       "      <td>19705419</td>\n",
       "      <td>-</td>\n",
       "      <td>7</td>\n",
       "      <td>-1</td>\n",
       "      <td>19705419</td>\n",
       "      <td>19705418</td>\n",
       "    </tr>\n",
       "    <tr>\n",
       "      <th>248260</th>\n",
       "      <td>chrY</td>\n",
       "      <td>human_WTC11_cDNA_PacBio_longT000588235</td>\n",
       "      <td>19744722</td>\n",
       "      <td>19705601</td>\n",
       "      <td>-</td>\n",
       "      <td>1</td>\n",
       "      <td>-1</td>\n",
       "      <td>19705601</td>\n",
       "      <td>19705600</td>\n",
       "    </tr>\n",
       "    <tr>\n",
       "      <th>248261</th>\n",
       "      <td>chrY</td>\n",
       "      <td>human_WTC11_cDNA_PacBio_longT000588235</td>\n",
       "      <td>19744918</td>\n",
       "      <td>19705419</td>\n",
       "      <td>-</td>\n",
       "      <td>1</td>\n",
       "      <td>-1</td>\n",
       "      <td>19705419</td>\n",
       "      <td>19705418</td>\n",
       "    </tr>\n",
       "    <tr>\n",
       "      <th>248262</th>\n",
       "      <td>chrY</td>\n",
       "      <td>human_WTC11_cDNA_PacBio_longT000588253</td>\n",
       "      <td>19744722</td>\n",
       "      <td>19705419</td>\n",
       "      <td>-</td>\n",
       "      <td>3</td>\n",
       "      <td>-1</td>\n",
       "      <td>19705419</td>\n",
       "      <td>19705418</td>\n",
       "    </tr>\n",
       "    <tr>\n",
       "      <th>248263</th>\n",
       "      <td>chrY</td>\n",
       "      <td>human_WTC11_cDNA_PacBio_longT000588253</td>\n",
       "      <td>19744722</td>\n",
       "      <td>19705485</td>\n",
       "      <td>-</td>\n",
       "      <td>1</td>\n",
       "      <td>-1</td>\n",
       "      <td>19705485</td>\n",
       "      <td>19705484</td>\n",
       "    </tr>\n",
       "  </tbody>\n",
       "</table>\n",
       "<p>248264 rows × 9 columns</p>\n",
       "</div>"
      ],
      "text/plain": [
       "        Chromosome                           transcript_id  start_site  \\\n",
       "0       ERCC-00002  human_WTC11_cDNA_PacBio_longT000237014           2   \n",
       "1       ERCC-00002  human_WTC11_cDNA_PacBio_longT000237014           2   \n",
       "2       ERCC-00002  human_WTC11_cDNA_PacBio_longT000237014           2   \n",
       "3       ERCC-00002  human_WTC11_cDNA_PacBio_longT000237014         337   \n",
       "4       ERCC-00002  human_WTC11_cDNA_PacBio_longT000237014         415   \n",
       "...            ...                                     ...         ...   \n",
       "248259        chrY  human_WTC11_cDNA_PacBio_longT000588235    19744722   \n",
       "248260        chrY  human_WTC11_cDNA_PacBio_longT000588235    19744722   \n",
       "248261        chrY  human_WTC11_cDNA_PacBio_longT000588235    19744918   \n",
       "248262        chrY  human_WTC11_cDNA_PacBio_longT000588253    19744722   \n",
       "248263        chrY  human_WTC11_cDNA_PacBio_longT000588253    19744722   \n",
       "\n",
       "        polyA_site Strand  count  cage_support       End     Start  \n",
       "0              156      +      6            -1       156       155  \n",
       "1              215      +      7            -1       215       214  \n",
       "2             1043      +  18574            -1      1043      1042  \n",
       "3             1043      +    184            -1      1043      1042  \n",
       "4             1043      +    194            -1      1043      1042  \n",
       "...            ...    ...    ...           ...       ...       ...  \n",
       "248259    19705419      -      7            -1  19705419  19705418  \n",
       "248260    19705601      -      1            -1  19705601  19705600  \n",
       "248261    19705419      -      1            -1  19705419  19705418  \n",
       "248262    19705419      -      3            -1  19705419  19705418  \n",
       "248263    19705485      -      1            -1  19705485  19705484  \n",
       "\n",
       "[248264 rows x 9 columns]"
      ]
     },
     "execution_count": 18,
     "metadata": {},
     "output_type": "execute_result"
    }
   ],
   "source": [
    "_df"
   ]
  },
  {
   "cell_type": "code",
   "execution_count": 19,
   "id": "computational-nursery",
   "metadata": {
    "scrolled": false
   },
   "outputs": [],
   "source": [
    "df = pr.PyRanges(_df, int64=True).join(gr_quantseq, how='left').df \\\n",
    "    .drop(columns=['End', 'Start', 'Start_b','End_b', 'Strand_b'])"
   ]
  },
  {
   "cell_type": "code",
   "execution_count": 20,
   "id": "becoming-fossil",
   "metadata": {},
   "outputs": [
    {
     "data": {
      "text/html": [
       "<div>\n",
       "<style scoped>\n",
       "    .dataframe tbody tr th:only-of-type {\n",
       "        vertical-align: middle;\n",
       "    }\n",
       "\n",
       "    .dataframe tbody tr th {\n",
       "        vertical-align: top;\n",
       "    }\n",
       "\n",
       "    .dataframe thead th {\n",
       "        text-align: right;\n",
       "    }\n",
       "</style>\n",
       "<table border=\"1\" class=\"dataframe\">\n",
       "  <thead>\n",
       "    <tr style=\"text-align: right;\">\n",
       "      <th></th>\n",
       "      <th>Chromosome</th>\n",
       "      <th>transcript_id</th>\n",
       "      <th>start_site</th>\n",
       "      <th>polyA_site</th>\n",
       "      <th>Strand</th>\n",
       "      <th>count</th>\n",
       "      <th>cage_support</th>\n",
       "      <th>polya_support</th>\n",
       "    </tr>\n",
       "  </thead>\n",
       "  <tbody>\n",
       "    <tr>\n",
       "      <th>0</th>\n",
       "      <td>ERCC-00002</td>\n",
       "      <td>human_WTC11_cDNA_PacBio_longT000237014</td>\n",
       "      <td>2</td>\n",
       "      <td>156</td>\n",
       "      <td>+</td>\n",
       "      <td>6</td>\n",
       "      <td>-1</td>\n",
       "      <td>-1</td>\n",
       "    </tr>\n",
       "    <tr>\n",
       "      <th>1</th>\n",
       "      <td>ERCC-00002</td>\n",
       "      <td>human_WTC11_cDNA_PacBio_longT000237014</td>\n",
       "      <td>2</td>\n",
       "      <td>215</td>\n",
       "      <td>+</td>\n",
       "      <td>7</td>\n",
       "      <td>-1</td>\n",
       "      <td>-1</td>\n",
       "    </tr>\n",
       "    <tr>\n",
       "      <th>2</th>\n",
       "      <td>ERCC-00002</td>\n",
       "      <td>human_WTC11_cDNA_PacBio_longT000237014</td>\n",
       "      <td>2</td>\n",
       "      <td>1043</td>\n",
       "      <td>+</td>\n",
       "      <td>18574</td>\n",
       "      <td>-1</td>\n",
       "      <td>-1</td>\n",
       "    </tr>\n",
       "    <tr>\n",
       "      <th>3</th>\n",
       "      <td>ERCC-00002</td>\n",
       "      <td>human_WTC11_cDNA_PacBio_longT000237014</td>\n",
       "      <td>337</td>\n",
       "      <td>1043</td>\n",
       "      <td>+</td>\n",
       "      <td>184</td>\n",
       "      <td>-1</td>\n",
       "      <td>-1</td>\n",
       "    </tr>\n",
       "    <tr>\n",
       "      <th>4</th>\n",
       "      <td>ERCC-00002</td>\n",
       "      <td>human_WTC11_cDNA_PacBio_longT000237014</td>\n",
       "      <td>415</td>\n",
       "      <td>1043</td>\n",
       "      <td>+</td>\n",
       "      <td>194</td>\n",
       "      <td>-1</td>\n",
       "      <td>-1</td>\n",
       "    </tr>\n",
       "    <tr>\n",
       "      <th>...</th>\n",
       "      <td>...</td>\n",
       "      <td>...</td>\n",
       "      <td>...</td>\n",
       "      <td>...</td>\n",
       "      <td>...</td>\n",
       "      <td>...</td>\n",
       "      <td>...</td>\n",
       "      <td>...</td>\n",
       "    </tr>\n",
       "    <tr>\n",
       "      <th>248293</th>\n",
       "      <td>chrY</td>\n",
       "      <td>human_WTC11_cDNA_PacBio_longT000588218</td>\n",
       "      <td>19744722</td>\n",
       "      <td>19705485</td>\n",
       "      <td>-</td>\n",
       "      <td>1</td>\n",
       "      <td>-1</td>\n",
       "      <td>-1</td>\n",
       "    </tr>\n",
       "    <tr>\n",
       "      <th>248294</th>\n",
       "      <td>chrY</td>\n",
       "      <td>human_WTC11_cDNA_PacBio_longT000588218</td>\n",
       "      <td>19744722</td>\n",
       "      <td>19705601</td>\n",
       "      <td>-</td>\n",
       "      <td>2</td>\n",
       "      <td>-1</td>\n",
       "      <td>-1</td>\n",
       "    </tr>\n",
       "    <tr>\n",
       "      <th>248295</th>\n",
       "      <td>chrY</td>\n",
       "      <td>human_WTC11_cDNA_PacBio_longT000588225</td>\n",
       "      <td>-1</td>\n",
       "      <td>19705485</td>\n",
       "      <td>-</td>\n",
       "      <td>1</td>\n",
       "      <td>-1</td>\n",
       "      <td>-1</td>\n",
       "    </tr>\n",
       "    <tr>\n",
       "      <th>248296</th>\n",
       "      <td>chrY</td>\n",
       "      <td>human_WTC11_cDNA_PacBio_longT000588235</td>\n",
       "      <td>19744722</td>\n",
       "      <td>19705601</td>\n",
       "      <td>-</td>\n",
       "      <td>1</td>\n",
       "      <td>-1</td>\n",
       "      <td>-1</td>\n",
       "    </tr>\n",
       "    <tr>\n",
       "      <th>248297</th>\n",
       "      <td>chrY</td>\n",
       "      <td>human_WTC11_cDNA_PacBio_longT000588253</td>\n",
       "      <td>19744722</td>\n",
       "      <td>19705485</td>\n",
       "      <td>-</td>\n",
       "      <td>1</td>\n",
       "      <td>-1</td>\n",
       "      <td>-1</td>\n",
       "    </tr>\n",
       "  </tbody>\n",
       "</table>\n",
       "<p>248298 rows × 8 columns</p>\n",
       "</div>"
      ],
      "text/plain": [
       "        Chromosome                           transcript_id  start_site  \\\n",
       "0       ERCC-00002  human_WTC11_cDNA_PacBio_longT000237014           2   \n",
       "1       ERCC-00002  human_WTC11_cDNA_PacBio_longT000237014           2   \n",
       "2       ERCC-00002  human_WTC11_cDNA_PacBio_longT000237014           2   \n",
       "3       ERCC-00002  human_WTC11_cDNA_PacBio_longT000237014         337   \n",
       "4       ERCC-00002  human_WTC11_cDNA_PacBio_longT000237014         415   \n",
       "...            ...                                     ...         ...   \n",
       "248293        chrY  human_WTC11_cDNA_PacBio_longT000588218    19744722   \n",
       "248294        chrY  human_WTC11_cDNA_PacBio_longT000588218    19744722   \n",
       "248295        chrY  human_WTC11_cDNA_PacBio_longT000588225          -1   \n",
       "248296        chrY  human_WTC11_cDNA_PacBio_longT000588235    19744722   \n",
       "248297        chrY  human_WTC11_cDNA_PacBio_longT000588253    19744722   \n",
       "\n",
       "        polyA_site Strand  count  cage_support  polya_support  \n",
       "0              156      +      6            -1             -1  \n",
       "1              215      +      7            -1             -1  \n",
       "2             1043      +  18574            -1             -1  \n",
       "3             1043      +    184            -1             -1  \n",
       "4             1043      +    194            -1             -1  \n",
       "...            ...    ...    ...           ...            ...  \n",
       "248293    19705485      -      1            -1             -1  \n",
       "248294    19705601      -      2            -1             -1  \n",
       "248295    19705485      -      1            -1             -1  \n",
       "248296    19705601      -      1            -1             -1  \n",
       "248297    19705485      -      1            -1             -1  \n",
       "\n",
       "[248298 rows x 8 columns]"
      ]
     },
     "execution_count": 20,
     "metadata": {},
     "output_type": "execute_result"
    }
   ],
   "source": [
    "df"
   ]
  },
  {
   "cell_type": "code",
   "execution_count": 21,
   "id": "moved-pathology",
   "metadata": {},
   "outputs": [
    {
     "data": {
      "image/png": "[encoded data removed]",
      "text/plain": [
       "<Figure size 432x288 with 1 Axes>"
      ]
     },
     "metadata": {
      "needs_background": "light"
     },
     "output_type": "display_data"
    }
   ],
   "source": [
    "import seaborn as sns\n",
    "\n",
    "sns.boxplot(data=df, x='cage_support', y='count')\n",
    "plt.yscale('log')"
   ]
  },
  {
   "cell_type": "code",
   "execution_count": 22,
   "id": "expired-slovak",
   "metadata": {},
   "outputs": [
    {
     "data": {
      "image/png": "[encoded data removed]",
      "text/plain": [
       "<Figure size 432x288 with 1 Axes>"
      ]
     },
     "metadata": {
      "needs_background": "light"
     },
     "output_type": "display_data"
    }
   ],
   "source": [
    "df[(df['cage_support'] == -1) & (df['polya_support'] == -1)]['count'].hist(bins=100)\n",
    "plt.yscale('log')"
   ]
  },
  {
   "cell_type": "code",
   "execution_count": 23,
   "id": "featured-owner",
   "metadata": {},
   "outputs": [
    {
     "data": {
      "image/png": "[encoded data removed]",
      "text/plain": [
       "<Figure size 432x288 with 1 Axes>"
      ]
     },
     "metadata": {
      "needs_background": "light"
     },
     "output_type": "display_data"
    }
   ],
   "source": [
    "df[(df['cage_support'] != -1) & (df['polya_support'] != -1)]['count'].hist(bins=100)\n",
    "plt.yscale('log')"
   ]
  },
  {
   "cell_type": "code",
   "execution_count": 24,
   "id": "strategic-discipline",
   "metadata": {},
   "outputs": [],
   "source": [
    "df_links['End'] =  df_links['start_site']\n",
    "df_links['Start'] = df_links['End'] - 1"
   ]
  },
  {
   "cell_type": "code",
   "execution_count": 25,
   "id": "behavioral-machinery",
   "metadata": {},
   "outputs": [
    {
     "data": {
      "text/plain": [
       "(22721, 8)"
      ]
     },
     "execution_count": 25,
     "metadata": {},
     "output_type": "execute_result"
    }
   ],
   "source": [
    "df[(df['cage_support'] != -1) & (df['polya_support'] != -1)].shape"
   ]
  },
  {
   "cell_type": "code",
   "execution_count": 26,
   "id": "refined-chess",
   "metadata": {},
   "outputs": [
    {
     "data": {
      "text/plain": [
       "(94405, 8)"
      ]
     },
     "execution_count": 26,
     "metadata": {},
     "output_type": "execute_result"
    }
   ],
   "source": [
    "df[(df['cage_support'] == -1) & (df['polya_support'] == -1)].shape"
   ]
  },
  {
   "cell_type": "code",
   "execution_count": 27,
   "id": "anonymous-russian",
   "metadata": {},
   "outputs": [
    {
     "data": {
      "text/plain": [
       "(153893, 8)"
      ]
     },
     "execution_count": 27,
     "metadata": {},
     "output_type": "execute_result"
    }
   ],
   "source": [
    "df[(df['cage_support'] != -1) | (df['polya_support'] != -1)].shape"
   ]
  },
  {
   "cell_type": "code",
   "execution_count": 30,
   "id": "elect-ranking",
   "metadata": {},
   "outputs": [
    {
     "data": {
      "text/plain": [
       "(248298, 8)"
      ]
     },
     "execution_count": 30,
     "metadata": {},
     "output_type": "execute_result"
    }
   ],
   "source": [
    "df.shape"
   ]
  },
  {
   "cell_type": "code",
   "execution_count": 29,
   "id": "innocent-lambda",
   "metadata": {},
   "outputs": [
    {
     "ename": "ValueError",
     "evalue": "Buffer dtype mismatch, expected 'const int64_t' but got 'int'",
     "output_type": "error",
     "traceback": [
      "\u001b[0;31m---------------------------------------------------------------------------\u001b[0m",
      "\u001b[0;31mValueError\u001b[0m                                Traceback (most recent call last)",
      "\u001b[0;32m/tmp/ipykernel_18677/4261799354.py\u001b[0m in \u001b[0;36m<module>\u001b[0;34m\u001b[0m\n\u001b[0;32m----> 1\u001b[0;31m \u001b[0mdf_link_cage\u001b[0m \u001b[0;34m=\u001b[0m \u001b[0mpr\u001b[0m\u001b[0;34m.\u001b[0m\u001b[0mPyRanges\u001b[0m\u001b[0;34m(\u001b[0m\u001b[0mdf_links\u001b[0m\u001b[0;34m)\u001b[0m\u001b[0;34m.\u001b[0m\u001b[0mnearest\u001b[0m\u001b[0;34m(\u001b[0m\u001b[0mgr_cage\u001b[0m\u001b[0;34m,\u001b[0m \u001b[0mhow\u001b[0m\u001b[0;34m=\u001b[0m\u001b[0;34m'inner'\u001b[0m\u001b[0;34m)\u001b[0m\u001b[0;34m.\u001b[0m\u001b[0mdf\u001b[0m\u001b[0;34m\u001b[0m\u001b[0;34m\u001b[0m\u001b[0m\n\u001b[0m",
      "\u001b[0;32m/pub/mcelik/anaconda/envs/lapa/lib/python3.8/site-packages/pyranges/pyranges.py\u001b[0m in \u001b[0;36mnearest\u001b[0;34m(self, other, strandedness, overlap, how, suffix, nb_cpu, apply_strand_suffix)\u001b[0m\n\u001b[1;32m   3112\u001b[0m             \u001b[0;32massert\u001b[0m \u001b[0mother\u001b[0m\u001b[0;34m.\u001b[0m\u001b[0mstranded\u001b[0m\u001b[0;34m,\u001b[0m \u001b[0;34m\"If doing upstream or downstream nearest, other pyranges must be stranded\"\u001b[0m\u001b[0;34m\u001b[0m\u001b[0;34m\u001b[0m\u001b[0m\n\u001b[1;32m   3113\u001b[0m \u001b[0;34m\u001b[0m\u001b[0m\n\u001b[0;32m-> 3114\u001b[0;31m         \u001b[0mdfs\u001b[0m \u001b[0;34m=\u001b[0m \u001b[0mpyrange_apply\u001b[0m\u001b[0;34m(\u001b[0m\u001b[0m_nearest\u001b[0m\u001b[0;34m,\u001b[0m \u001b[0mself\u001b[0m\u001b[0;34m,\u001b[0m \u001b[0mother\u001b[0m\u001b[0;34m,\u001b[0m \u001b[0;34m**\u001b[0m\u001b[0mkwargs\u001b[0m\u001b[0;34m)\u001b[0m\u001b[0;34m\u001b[0m\u001b[0;34m\u001b[0m\u001b[0m\n\u001b[0m\u001b[1;32m   3115\u001b[0m         \u001b[0mgr\u001b[0m \u001b[0;34m=\u001b[0m \u001b[0mPyRanges\u001b[0m\u001b[0;34m(\u001b[0m\u001b[0mdfs\u001b[0m\u001b[0;34m)\u001b[0m\u001b[0;34m\u001b[0m\u001b[0;34m\u001b[0m\u001b[0m\n\u001b[1;32m   3116\u001b[0m \u001b[0;34m\u001b[0m\u001b[0m\n",
      "\u001b[0;32m/pub/mcelik/anaconda/envs/lapa/lib/python3.8/site-packages/pyranges/multithreaded.py\u001b[0m in \u001b[0;36mpyrange_apply\u001b[0;34m(function, self, other, **kwargs)\u001b[0m\n\u001b[1;32m    290\u001b[0m                 \u001b[0mdf\u001b[0m\u001b[0;34m,\u001b[0m \u001b[0modf\u001b[0m \u001b[0;34m=\u001b[0m \u001b[0mmake_binary_sparse\u001b[0m\u001b[0;34m(\u001b[0m\u001b[0mkwargs\u001b[0m\u001b[0;34m,\u001b[0m \u001b[0mdf\u001b[0m\u001b[0;34m,\u001b[0m \u001b[0modf\u001b[0m\u001b[0;34m)\u001b[0m\u001b[0;34m\u001b[0m\u001b[0;34m\u001b[0m\u001b[0m\n\u001b[1;32m    291\u001b[0m \u001b[0;34m\u001b[0m\u001b[0m\n\u001b[0;32m--> 292\u001b[0;31m                 \u001b[0mresult\u001b[0m \u001b[0;34m=\u001b[0m \u001b[0mcall_f\u001b[0m\u001b[0;34m(\u001b[0m\u001b[0mfunction\u001b[0m\u001b[0;34m,\u001b[0m \u001b[0mnparams\u001b[0m\u001b[0;34m,\u001b[0m \u001b[0mdf\u001b[0m\u001b[0;34m,\u001b[0m \u001b[0modf\u001b[0m\u001b[0;34m,\u001b[0m \u001b[0mkwargs\u001b[0m\u001b[0;34m)\u001b[0m\u001b[0;34m\u001b[0m\u001b[0;34m\u001b[0m\u001b[0m\n\u001b[0m\u001b[1;32m    293\u001b[0m                 \u001b[0mresults\u001b[0m\u001b[0;34m.\u001b[0m\u001b[0mappend\u001b[0m\u001b[0;34m(\u001b[0m\u001b[0mresult\u001b[0m\u001b[0;34m)\u001b[0m\u001b[0;34m\u001b[0m\u001b[0;34m\u001b[0m\u001b[0m\n\u001b[1;32m    294\u001b[0m \u001b[0;34m\u001b[0m\u001b[0m\n",
      "\u001b[0;32m/pub/mcelik/anaconda/envs/lapa/lib/python3.8/site-packages/pyranges/multithreaded.py\u001b[0m in \u001b[0;36mcall_f\u001b[0;34m(f, nparams, df, odf, kwargs)\u001b[0m\n\u001b[1;32m     20\u001b[0m \u001b[0;34m\u001b[0m\u001b[0m\n\u001b[1;32m     21\u001b[0m     \u001b[0;32mif\u001b[0m \u001b[0mnparams\u001b[0m \u001b[0;34m==\u001b[0m \u001b[0;36m3\u001b[0m\u001b[0;34m:\u001b[0m\u001b[0;34m\u001b[0m\u001b[0;34m\u001b[0m\u001b[0m\n\u001b[0;32m---> 22\u001b[0;31m         \u001b[0;32mreturn\u001b[0m \u001b[0mf\u001b[0m\u001b[0;34m.\u001b[0m\u001b[0mremote\u001b[0m\u001b[0;34m(\u001b[0m\u001b[0mdf\u001b[0m\u001b[0;34m,\u001b[0m \u001b[0modf\u001b[0m\u001b[0;34m,\u001b[0m \u001b[0;34m**\u001b[0m\u001b[0mkwargs\u001b[0m\u001b[0;34m)\u001b[0m\u001b[0;34m\u001b[0m\u001b[0;34m\u001b[0m\u001b[0m\n\u001b[0m\u001b[1;32m     23\u001b[0m     \u001b[0;32melse\u001b[0m\u001b[0;34m:\u001b[0m\u001b[0;34m\u001b[0m\u001b[0;34m\u001b[0m\u001b[0m\n\u001b[1;32m     24\u001b[0m         \u001b[0;32mreturn\u001b[0m \u001b[0mf\u001b[0m\u001b[0;34m.\u001b[0m\u001b[0mremote\u001b[0m\u001b[0;34m(\u001b[0m\u001b[0mdf\u001b[0m\u001b[0;34m,\u001b[0m \u001b[0modf\u001b[0m\u001b[0;34m)\u001b[0m\u001b[0;34m\u001b[0m\u001b[0;34m\u001b[0m\u001b[0m\n",
      "\u001b[0;32m/pub/mcelik/anaconda/envs/lapa/lib/python3.8/site-packages/pyranges/methods/nearest.py\u001b[0m in \u001b[0;36m_nearest\u001b[0;34m(scdf, ocdf, **kwargs)\u001b[0m\n\u001b[1;32m    100\u001b[0m \u001b[0;34m\u001b[0m\u001b[0m\n\u001b[1;32m    101\u001b[0m     \u001b[0;32mif\u001b[0m \u001b[0moverlap\u001b[0m\u001b[0;34m:\u001b[0m\u001b[0;34m\u001b[0m\u001b[0;34m\u001b[0m\u001b[0m\n\u001b[0;32m--> 102\u001b[0;31m         nearest_df, df_to_find_nearest_in = _overlapping_for_nearest(\n\u001b[0m\u001b[1;32m    103\u001b[0m             scdf, ocdf, suffix)\n\u001b[1;32m    104\u001b[0m     \u001b[0;32melse\u001b[0m\u001b[0;34m:\u001b[0m\u001b[0;34m\u001b[0m\u001b[0;34m\u001b[0m\u001b[0m\n",
      "\u001b[0;32m/pub/mcelik/anaconda/envs/lapa/lib/python3.8/site-packages/pyranges/methods/nearest.py\u001b[0m in \u001b[0;36m_overlapping_for_nearest\u001b[0;34m(scdf, ocdf, suffix)\u001b[0m\n\u001b[1;32m     32\u001b[0m     \u001b[0mnearest_df\u001b[0m \u001b[0;34m=\u001b[0m \u001b[0mpd\u001b[0m\u001b[0;34m.\u001b[0m\u001b[0mDataFrame\u001b[0m\u001b[0;34m(\u001b[0m\u001b[0mcolumns\u001b[0m\u001b[0;34m=\u001b[0m\u001b[0;34m\"Chromosome Start End Strand\"\u001b[0m\u001b[0;34m.\u001b[0m\u001b[0msplit\u001b[0m\u001b[0;34m(\u001b[0m\u001b[0;34m)\u001b[0m\u001b[0;34m)\u001b[0m\u001b[0;34m\u001b[0m\u001b[0;34m\u001b[0m\u001b[0m\n\u001b[1;32m     33\u001b[0m \u001b[0;34m\u001b[0m\u001b[0m\n\u001b[0;32m---> 34\u001b[0;31m     \u001b[0mscdf2\u001b[0m\u001b[0;34m,\u001b[0m \u001b[0mocdf2\u001b[0m \u001b[0;34m=\u001b[0m \u001b[0m_both_dfs\u001b[0m\u001b[0;34m(\u001b[0m\u001b[0mscdf\u001b[0m\u001b[0;34m,\u001b[0m \u001b[0mocdf\u001b[0m\u001b[0;34m,\u001b[0m \u001b[0mhow\u001b[0m\u001b[0;34m=\u001b[0m\u001b[0;34m\"first\"\u001b[0m\u001b[0;34m)\u001b[0m\u001b[0;34m\u001b[0m\u001b[0;34m\u001b[0m\u001b[0m\n\u001b[0m\u001b[1;32m     35\u001b[0m \u001b[0;34m\u001b[0m\u001b[0m\n\u001b[1;32m     36\u001b[0m     \u001b[0;32mif\u001b[0m \u001b[0;32mnot\u001b[0m \u001b[0mocdf2\u001b[0m\u001b[0;34m.\u001b[0m\u001b[0mempty\u001b[0m\u001b[0;34m:\u001b[0m\u001b[0;34m\u001b[0m\u001b[0;34m\u001b[0m\u001b[0m\n",
      "\u001b[0;32m/pub/mcelik/anaconda/envs/lapa/lib/python3.8/site-packages/pyranges/methods/join.py\u001b[0m in \u001b[0;36m_both_dfs\u001b[0;34m(scdf, ocdf, how)\u001b[0m\n\u001b[1;32m     76\u001b[0m \u001b[0;32mdef\u001b[0m \u001b[0m_both_dfs\u001b[0m\u001b[0;34m(\u001b[0m\u001b[0mscdf\u001b[0m\u001b[0;34m,\u001b[0m \u001b[0mocdf\u001b[0m\u001b[0;34m,\u001b[0m \u001b[0mhow\u001b[0m\u001b[0;34m=\u001b[0m\u001b[0;32mFalse\u001b[0m\u001b[0;34m)\u001b[0m\u001b[0;34m:\u001b[0m\u001b[0;34m\u001b[0m\u001b[0;34m\u001b[0m\u001b[0m\n\u001b[1;32m     77\u001b[0m \u001b[0;34m\u001b[0m\u001b[0m\n\u001b[0;32m---> 78\u001b[0;31m     \u001b[0m_self_indexes\u001b[0m\u001b[0;34m,\u001b[0m \u001b[0m_other_indexes\u001b[0m \u001b[0;34m=\u001b[0m \u001b[0m_both_indexes\u001b[0m\u001b[0;34m(\u001b[0m\u001b[0mscdf\u001b[0m\u001b[0;34m,\u001b[0m \u001b[0mocdf\u001b[0m\u001b[0;34m,\u001b[0m \u001b[0mhow\u001b[0m\u001b[0;34m)\u001b[0m\u001b[0;34m\u001b[0m\u001b[0;34m\u001b[0m\u001b[0m\n\u001b[0m\u001b[1;32m     79\u001b[0m \u001b[0;34m\u001b[0m\u001b[0m\n\u001b[1;32m     80\u001b[0m     \u001b[0;32mif\u001b[0m \u001b[0mhow\u001b[0m \u001b[0;32min\u001b[0m \u001b[0;34m[\u001b[0m\u001b[0;34m\"outer\"\u001b[0m\u001b[0;34m,\u001b[0m \u001b[0;34m\"left\"\u001b[0m\u001b[0;34m,\u001b[0m \u001b[0;34m\"right\"\u001b[0m\u001b[0;34m]\u001b[0m\u001b[0;34m:\u001b[0m\u001b[0;34m\u001b[0m\u001b[0;34m\u001b[0m\u001b[0m\n",
      "\u001b[0;32m/pub/mcelik/anaconda/envs/lapa/lib/python3.8/site-packages/pyranges/methods/join.py\u001b[0m in \u001b[0;36m_both_indexes\u001b[0;34m(scdf, ocdf, how)\u001b[0m\n\u001b[1;32m     21\u001b[0m             starts, ends, indexes)\n\u001b[1;32m     22\u001b[0m     \u001b[0;32melif\u001b[0m \u001b[0mhow\u001b[0m \u001b[0;34m==\u001b[0m \u001b[0;34m\"first\"\u001b[0m\u001b[0;34m:\u001b[0m\u001b[0;34m\u001b[0m\u001b[0;34m\u001b[0m\u001b[0m\n\u001b[0;32m---> 23\u001b[0;31m         _self_indexes, _other_indexes = it.first_overlap_both(\n\u001b[0m\u001b[1;32m     24\u001b[0m             starts, ends, indexes)\n\u001b[1;32m     25\u001b[0m     \u001b[0;32melif\u001b[0m \u001b[0mhow\u001b[0m \u001b[0;34m==\u001b[0m \u001b[0;34m\"last\"\u001b[0m\u001b[0;34m:\u001b[0m\u001b[0;34m\u001b[0m\u001b[0;34m\u001b[0m\u001b[0m\n",
      "\u001b[0;32m/pub/mcelik/anaconda/envs/lapa/lib/python3.8/site-packages/ncls/src/ncls.pyx\u001b[0m in \u001b[0;36mncls.src.ncls.NCLS64.first_overlap_both\u001b[0;34m()\u001b[0m\n",
      "\u001b[0;31mValueError\u001b[0m: Buffer dtype mismatch, expected 'const int64_t' but got 'int'"
     ]
    }
   ],
   "source": [
    "df_link_cage = pr.PyRanges(df_links).nearest(gr_cage, how='inner').df"
   ]
  },
  {
   "cell_type": "code",
   "execution_count": null,
   "id": "disciplinary-burner",
   "metadata": {},
   "outputs": [],
   "source": [
    "df_link_cage = df_link_cage[df_link_cage['Distance']  < 50]"
   ]
  },
  {
   "cell_type": "code",
   "execution_count": null,
   "id": "broadband-pacific",
   "metadata": {},
   "outputs": [],
   "source": [
    "df_link_cage['End'] =  df_link_cage['polyA_site']\n",
    "df_link_cage['Start'] = df_link_cage['End'] - 1"
   ]
  },
  {
   "cell_type": "code",
   "execution_count": null,
   "id": "natural-pixel",
   "metadata": {},
   "outputs": [],
   "source": [
    "df_link_cage_polya = pr.PyRanges(df_link_cage).nearest(gr_quantseq, how='inner').df"
   ]
  },
  {
   "cell_type": "code",
   "execution_count": null,
   "id": "respiratory-pathology",
   "metadata": {},
   "outputs": [],
   "source": [
    "df_link_cage_polya = df_link_cage_polya[df_link_cage_polya['Distance_b'] < 50]"
   ]
  },
  {
   "cell_type": "code",
   "execution_count": null,
   "id": "comprehensive-collectible",
   "metadata": {},
   "outputs": [],
   "source": [
    "df_link_cage_polya.shape"
   ]
  },
  {
   "cell_type": "code",
   "execution_count": null,
   "id": "activated-luxembourg",
   "metadata": {},
   "outputs": [],
   "source": [
    "df_reads.head()"
   ]
  },
  {
   "cell_type": "code",
   "execution_count": null,
   "id": "postal-arcade",
   "metadata": {},
   "outputs": [],
   "source": [
    "df_link_counts = df_links.groupby(['Chromosome', 'start_site', 'polyA_site']) \\\n",
    "    .size().reset_index().rename(columns={0: 'count'})"
   ]
  },
  {
   "cell_type": "code",
   "execution_count": null,
   "id": "wrapped-external",
   "metadata": {},
   "outputs": [],
   "source": [
    "df_link_counts = df_link_counts[\n",
    "    (df_link_counts['start_site'] != -1) & \n",
    "    (df_link_counts['polyA_site'] != -1)\n",
    "]"
   ]
  },
  {
   "cell_type": "code",
   "execution_count": null,
   "id": "attended-renaissance",
   "metadata": {},
   "outputs": [],
   "source": [
    "df_link_counts['count'].sum() / df_reads.shape[0]"
   ]
  },
  {
   "cell_type": "code",
   "execution_count": null,
   "id": "communist-conversation",
   "metadata": {},
   "outputs": [],
   "source": [
    "df_join = df_reads.set_index('read_name').join(\n",
    "    df_links.set_index('read_name')[['start_site', 'polyA_site']], how='inner')"
   ]
  },
  {
   "cell_type": "code",
   "execution_count": null,
   "id": "fancy-champagne",
   "metadata": {},
   "outputs": [],
   "source": [
    "df_join[(df_join['start_site'] == -1) & (df_join['polyA_site'] == -1)]"
   ]
  },
  {
   "cell_type": "code",
   "execution_count": null,
   "id": "elect-manhattan",
   "metadata": {},
   "outputs": [],
   "source": [
    "len(set(df_reads['read_name']).intersection(df_links['read_name']))"
   ]
  },
  {
   "cell_type": "code",
   "execution_count": null,
   "id": "regulation-basket",
   "metadata": {},
   "outputs": [],
   "source": [
    "df_join"
   ]
  },
  {
   "cell_type": "code",
   "execution_count": null,
   "id": "common-refund",
   "metadata": {},
   "outputs": [],
   "source": [
    "df_join = df_join[(df_join['start_site'] != -1) & (df_join['polyA_site'] != -1)]"
   ]
  },
  {
   "cell_type": "code",
   "execution_count": null,
   "id": "caring-village",
   "metadata": {},
   "outputs": [],
   "source": [
    "df_transcript_site = df_join.groupby(['transcript_id', 'start_site', 'polyA_site']) \\\n",
    "    .size().reset_index().rename(columns={0: 'count'})"
   ]
  },
  {
   "cell_type": "code",
   "execution_count": null,
   "id": "premier-accreditation",
   "metadata": {},
   "outputs": [],
   "source": [
    "num_transcript = df_transcript_site[df_transcript_site['count'] > 5].groupby('transcript_id').size()"
   ]
  },
  {
   "cell_type": "code",
   "execution_count": null,
   "id": "industrial-sandwich",
   "metadata": {},
   "outputs": [],
   "source": [
    "sum(num_transcript - 1)"
   ]
  },
  {
   "cell_type": "code",
   "execution_count": null,
   "id": "split-presentation",
   "metadata": {},
   "outputs": [],
   "source": [
    "len(df_reads['transcript_id'].unique())"
   ]
  },
  {
   "cell_type": "code",
   "execution_count": null,
   "id": "skilled-pollution",
   "metadata": {},
   "outputs": [],
   "source": [
    "df_abundance = pd.read_csv(snakemake.input['abundance'], sep='\\t')"
   ]
  },
  {
   "cell_type": "code",
   "execution_count": null,
   "id": "identified-jewelry",
   "metadata": {},
   "outputs": [],
   "source": [
    "len(df_abundance['annot_transcript_id'].unique())"
   ]
  },
  {
   "cell_type": "code",
   "execution_count": null,
   "id": "fantastic-washington",
   "metadata": {},
   "outputs": [],
   "source": [
    "num_transcript[num_transcript.isin(df_abundance['annot_transcript_id'].unique())]"
   ]
  },
  {
   "cell_type": "code",
   "execution_count": null,
   "id": "chicken-store",
   "metadata": {},
   "outputs": [],
   "source": [
    "(num_transcript[num_transcript.index.isin(set(df_abundance['annot_transcript_id'].unique()))] - 1).sum()"
   ]
  }
 ],
 "metadata": {
  "kernelspec": {
   "display_name": "Python 3 (ipykernel)",
   "language": "python",
   "name": "python3"
  },
  "language_info": {
   "codemirror_mode": {
    "name": "ipython",
    "version": 3
   },
   "file_extension": ".py",
   "mimetype": "text/x-python",
   "name": "python",
   "nbconvert_exporter": "python",
   "pygments_lexer": "ipython3",
   "version": "3.8.1"
  }
 },
 "nbformat": 4,
 "nbformat_minor": 5
}
