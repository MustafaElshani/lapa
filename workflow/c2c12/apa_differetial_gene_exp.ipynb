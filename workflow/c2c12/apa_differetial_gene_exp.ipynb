{
 "cells": [
  {
   "cell_type": "code",
   "execution_count": 1,
   "id": "d111b8bf",
   "metadata": {},
   "outputs": [],
   "source": [
    "import os\n",
    "\n",
    "try:\n",
    "    snakemake\n",
    "except NameError:\n",
    "    from snakemk_util import load_rule_args\n",
    "    \n",
    "    os.chdir('../..')\n",
    "    \n",
    "    snakemake = load_rule_args(\n",
    "        snakefile = os.getcwd() + \"/workflow/Snakefile\",\n",
    "        rule_name = 'differential_apa_abundance_c2c12',\n",
    "        root = '..',\n",
    "    )"
   ]
  },
  {
   "cell_type": "code",
   "execution_count": 2,
   "id": "e7373f46",
   "metadata": {},
   "outputs": [],
   "source": [
    "import numpy as np\n",
    "import pandas as pd\n",
    "from tqdm import tqdm\n",
    "import matplotlib.pyplot as plt\n",
    "from lapa.result import LapaResult"
   ]
  },
  {
   "cell_type": "code",
   "execution_count": 14,
   "id": "3cdc3a7c",
   "metadata": {},
   "outputs": [],
   "source": [
    "samples = ['PB154', 'PB155', 'PB213', 'PB214']"
   ]
  },
  {
   "cell_type": "code",
   "execution_count": 4,
   "id": "83776bdf",
   "metadata": {},
   "outputs": [
    {
     "ename": "FileNotFoundError",
     "evalue": "[Errno 2] No such file or directory: '/home/cs/Projects/lapa/data/resources/c2c12/bulk_talon_abundance.tsv'",
     "output_type": "error",
     "traceback": [
      "\u001b[0;31m---------------------------------------------------------------------------\u001b[0m",
      "\u001b[0;31mFileNotFoundError\u001b[0m                         Traceback (most recent call last)",
      "\u001b[0;32m/tmp/ipykernel_15462/1075541400.py\u001b[0m in \u001b[0;36m<module>\u001b[0;34m\u001b[0m\n\u001b[0;32m----> 1\u001b[0;31m \u001b[0mdf_abundance\u001b[0m \u001b[0;34m=\u001b[0m \u001b[0mpd\u001b[0m\u001b[0;34m.\u001b[0m\u001b[0mread_csv\u001b[0m\u001b[0;34m(\u001b[0m\u001b[0msnakemake\u001b[0m\u001b[0;34m.\u001b[0m\u001b[0minput\u001b[0m\u001b[0;34m[\u001b[0m\u001b[0;34m'abundance'\u001b[0m\u001b[0;34m]\u001b[0m\u001b[0;34m,\u001b[0m \u001b[0msep\u001b[0m\u001b[0;34m=\u001b[0m\u001b[0;34m'\\t'\u001b[0m\u001b[0;34m)\u001b[0m\u001b[0;34m\u001b[0m\u001b[0;34m\u001b[0m\u001b[0m\n\u001b[0m",
      "\u001b[0;32m~/anaconda3/envs/lapa/lib/python3.9/site-packages/pandas/util/_decorators.py\u001b[0m in \u001b[0;36mwrapper\u001b[0;34m(*args, **kwargs)\u001b[0m\n\u001b[1;32m    309\u001b[0m                     \u001b[0mstacklevel\u001b[0m\u001b[0;34m=\u001b[0m\u001b[0mstacklevel\u001b[0m\u001b[0;34m,\u001b[0m\u001b[0;34m\u001b[0m\u001b[0;34m\u001b[0m\u001b[0m\n\u001b[1;32m    310\u001b[0m                 )\n\u001b[0;32m--> 311\u001b[0;31m             \u001b[0;32mreturn\u001b[0m \u001b[0mfunc\u001b[0m\u001b[0;34m(\u001b[0m\u001b[0;34m*\u001b[0m\u001b[0margs\u001b[0m\u001b[0;34m,\u001b[0m \u001b[0;34m**\u001b[0m\u001b[0mkwargs\u001b[0m\u001b[0;34m)\u001b[0m\u001b[0;34m\u001b[0m\u001b[0;34m\u001b[0m\u001b[0m\n\u001b[0m\u001b[1;32m    312\u001b[0m \u001b[0;34m\u001b[0m\u001b[0m\n\u001b[1;32m    313\u001b[0m         \u001b[0;32mreturn\u001b[0m \u001b[0mwrapper\u001b[0m\u001b[0;34m\u001b[0m\u001b[0;34m\u001b[0m\u001b[0m\n",
      "\u001b[0;32m~/anaconda3/envs/lapa/lib/python3.9/site-packages/pandas/io/parsers/readers.py\u001b[0m in \u001b[0;36mread_csv\u001b[0;34m(filepath_or_buffer, sep, delimiter, header, names, index_col, usecols, squeeze, prefix, mangle_dupe_cols, dtype, engine, converters, true_values, false_values, skipinitialspace, skiprows, skipfooter, nrows, na_values, keep_default_na, na_filter, verbose, skip_blank_lines, parse_dates, infer_datetime_format, keep_date_col, date_parser, dayfirst, cache_dates, iterator, chunksize, compression, thousands, decimal, lineterminator, quotechar, quoting, doublequote, escapechar, comment, encoding, encoding_errors, dialect, error_bad_lines, warn_bad_lines, on_bad_lines, delim_whitespace, low_memory, memory_map, float_precision, storage_options)\u001b[0m\n\u001b[1;32m    584\u001b[0m     \u001b[0mkwds\u001b[0m\u001b[0;34m.\u001b[0m\u001b[0mupdate\u001b[0m\u001b[0;34m(\u001b[0m\u001b[0mkwds_defaults\u001b[0m\u001b[0;34m)\u001b[0m\u001b[0;34m\u001b[0m\u001b[0;34m\u001b[0m\u001b[0m\n\u001b[1;32m    585\u001b[0m \u001b[0;34m\u001b[0m\u001b[0m\n\u001b[0;32m--> 586\u001b[0;31m     \u001b[0;32mreturn\u001b[0m \u001b[0m_read\u001b[0m\u001b[0;34m(\u001b[0m\u001b[0mfilepath_or_buffer\u001b[0m\u001b[0;34m,\u001b[0m \u001b[0mkwds\u001b[0m\u001b[0;34m)\u001b[0m\u001b[0;34m\u001b[0m\u001b[0;34m\u001b[0m\u001b[0m\n\u001b[0m\u001b[1;32m    587\u001b[0m \u001b[0;34m\u001b[0m\u001b[0m\n\u001b[1;32m    588\u001b[0m \u001b[0;34m\u001b[0m\u001b[0m\n",
      "\u001b[0;32m~/anaconda3/envs/lapa/lib/python3.9/site-packages/pandas/io/parsers/readers.py\u001b[0m in \u001b[0;36m_read\u001b[0;34m(filepath_or_buffer, kwds)\u001b[0m\n\u001b[1;32m    480\u001b[0m \u001b[0;34m\u001b[0m\u001b[0m\n\u001b[1;32m    481\u001b[0m     \u001b[0;31m# Create the parser.\u001b[0m\u001b[0;34m\u001b[0m\u001b[0;34m\u001b[0m\u001b[0m\n\u001b[0;32m--> 482\u001b[0;31m     \u001b[0mparser\u001b[0m \u001b[0;34m=\u001b[0m \u001b[0mTextFileReader\u001b[0m\u001b[0;34m(\u001b[0m\u001b[0mfilepath_or_buffer\u001b[0m\u001b[0;34m,\u001b[0m \u001b[0;34m**\u001b[0m\u001b[0mkwds\u001b[0m\u001b[0;34m)\u001b[0m\u001b[0;34m\u001b[0m\u001b[0;34m\u001b[0m\u001b[0m\n\u001b[0m\u001b[1;32m    483\u001b[0m \u001b[0;34m\u001b[0m\u001b[0m\n\u001b[1;32m    484\u001b[0m     \u001b[0;32mif\u001b[0m \u001b[0mchunksize\u001b[0m \u001b[0;32mor\u001b[0m \u001b[0miterator\u001b[0m\u001b[0;34m:\u001b[0m\u001b[0;34m\u001b[0m\u001b[0;34m\u001b[0m\u001b[0m\n",
      "\u001b[0;32m~/anaconda3/envs/lapa/lib/python3.9/site-packages/pandas/io/parsers/readers.py\u001b[0m in \u001b[0;36m__init__\u001b[0;34m(self, f, engine, **kwds)\u001b[0m\n\u001b[1;32m    809\u001b[0m             \u001b[0mself\u001b[0m\u001b[0;34m.\u001b[0m\u001b[0moptions\u001b[0m\u001b[0;34m[\u001b[0m\u001b[0;34m\"has_index_names\"\u001b[0m\u001b[0;34m]\u001b[0m \u001b[0;34m=\u001b[0m \u001b[0mkwds\u001b[0m\u001b[0;34m[\u001b[0m\u001b[0;34m\"has_index_names\"\u001b[0m\u001b[0;34m]\u001b[0m\u001b[0;34m\u001b[0m\u001b[0;34m\u001b[0m\u001b[0m\n\u001b[1;32m    810\u001b[0m \u001b[0;34m\u001b[0m\u001b[0m\n\u001b[0;32m--> 811\u001b[0;31m         \u001b[0mself\u001b[0m\u001b[0;34m.\u001b[0m\u001b[0m_engine\u001b[0m \u001b[0;34m=\u001b[0m \u001b[0mself\u001b[0m\u001b[0;34m.\u001b[0m\u001b[0m_make_engine\u001b[0m\u001b[0;34m(\u001b[0m\u001b[0mself\u001b[0m\u001b[0;34m.\u001b[0m\u001b[0mengine\u001b[0m\u001b[0;34m)\u001b[0m\u001b[0;34m\u001b[0m\u001b[0;34m\u001b[0m\u001b[0m\n\u001b[0m\u001b[1;32m    812\u001b[0m \u001b[0;34m\u001b[0m\u001b[0m\n\u001b[1;32m    813\u001b[0m     \u001b[0;32mdef\u001b[0m \u001b[0mclose\u001b[0m\u001b[0;34m(\u001b[0m\u001b[0mself\u001b[0m\u001b[0;34m)\u001b[0m\u001b[0;34m:\u001b[0m\u001b[0;34m\u001b[0m\u001b[0;34m\u001b[0m\u001b[0m\n",
      "\u001b[0;32m~/anaconda3/envs/lapa/lib/python3.9/site-packages/pandas/io/parsers/readers.py\u001b[0m in \u001b[0;36m_make_engine\u001b[0;34m(self, engine)\u001b[0m\n\u001b[1;32m   1038\u001b[0m             )\n\u001b[1;32m   1039\u001b[0m         \u001b[0;31m# error: Too many arguments for \"ParserBase\"\u001b[0m\u001b[0;34m\u001b[0m\u001b[0;34m\u001b[0m\u001b[0m\n\u001b[0;32m-> 1040\u001b[0;31m         \u001b[0;32mreturn\u001b[0m \u001b[0mmapping\u001b[0m\u001b[0;34m[\u001b[0m\u001b[0mengine\u001b[0m\u001b[0;34m]\u001b[0m\u001b[0;34m(\u001b[0m\u001b[0mself\u001b[0m\u001b[0;34m.\u001b[0m\u001b[0mf\u001b[0m\u001b[0;34m,\u001b[0m \u001b[0;34m**\u001b[0m\u001b[0mself\u001b[0m\u001b[0;34m.\u001b[0m\u001b[0moptions\u001b[0m\u001b[0;34m)\u001b[0m  \u001b[0;31m# type: ignore[call-arg]\u001b[0m\u001b[0;34m\u001b[0m\u001b[0;34m\u001b[0m\u001b[0m\n\u001b[0m\u001b[1;32m   1041\u001b[0m \u001b[0;34m\u001b[0m\u001b[0m\n\u001b[1;32m   1042\u001b[0m     \u001b[0;32mdef\u001b[0m \u001b[0m_failover_to_python\u001b[0m\u001b[0;34m(\u001b[0m\u001b[0mself\u001b[0m\u001b[0;34m)\u001b[0m\u001b[0;34m:\u001b[0m\u001b[0;34m\u001b[0m\u001b[0;34m\u001b[0m\u001b[0m\n",
      "\u001b[0;32m~/anaconda3/envs/lapa/lib/python3.9/site-packages/pandas/io/parsers/c_parser_wrapper.py\u001b[0m in \u001b[0;36m__init__\u001b[0;34m(self, src, **kwds)\u001b[0m\n\u001b[1;32m     49\u001b[0m \u001b[0;34m\u001b[0m\u001b[0m\n\u001b[1;32m     50\u001b[0m         \u001b[0;31m# open handles\u001b[0m\u001b[0;34m\u001b[0m\u001b[0;34m\u001b[0m\u001b[0m\n\u001b[0;32m---> 51\u001b[0;31m         \u001b[0mself\u001b[0m\u001b[0;34m.\u001b[0m\u001b[0m_open_handles\u001b[0m\u001b[0;34m(\u001b[0m\u001b[0msrc\u001b[0m\u001b[0;34m,\u001b[0m \u001b[0mkwds\u001b[0m\u001b[0;34m)\u001b[0m\u001b[0;34m\u001b[0m\u001b[0;34m\u001b[0m\u001b[0m\n\u001b[0m\u001b[1;32m     52\u001b[0m         \u001b[0;32massert\u001b[0m \u001b[0mself\u001b[0m\u001b[0;34m.\u001b[0m\u001b[0mhandles\u001b[0m \u001b[0;32mis\u001b[0m \u001b[0;32mnot\u001b[0m \u001b[0;32mNone\u001b[0m\u001b[0;34m\u001b[0m\u001b[0;34m\u001b[0m\u001b[0m\n\u001b[1;32m     53\u001b[0m \u001b[0;34m\u001b[0m\u001b[0m\n",
      "\u001b[0;32m~/anaconda3/envs/lapa/lib/python3.9/site-packages/pandas/io/parsers/base_parser.py\u001b[0m in \u001b[0;36m_open_handles\u001b[0;34m(self, src, kwds)\u001b[0m\n\u001b[1;32m    220\u001b[0m         \u001b[0mLet\u001b[0m \u001b[0mthe\u001b[0m \u001b[0mreaders\u001b[0m \u001b[0mopen\u001b[0m \u001b[0mIOHandles\u001b[0m \u001b[0mafter\u001b[0m \u001b[0mthey\u001b[0m \u001b[0mare\u001b[0m \u001b[0mdone\u001b[0m \u001b[0;32mwith\u001b[0m \u001b[0mtheir\u001b[0m \u001b[0mpotential\u001b[0m \u001b[0mraises\u001b[0m\u001b[0;34m.\u001b[0m\u001b[0;34m\u001b[0m\u001b[0;34m\u001b[0m\u001b[0m\n\u001b[1;32m    221\u001b[0m         \"\"\"\n\u001b[0;32m--> 222\u001b[0;31m         self.handles = get_handle(\n\u001b[0m\u001b[1;32m    223\u001b[0m             \u001b[0msrc\u001b[0m\u001b[0;34m,\u001b[0m\u001b[0;34m\u001b[0m\u001b[0;34m\u001b[0m\u001b[0m\n\u001b[1;32m    224\u001b[0m             \u001b[0;34m\"r\"\u001b[0m\u001b[0;34m,\u001b[0m\u001b[0;34m\u001b[0m\u001b[0;34m\u001b[0m\u001b[0m\n",
      "\u001b[0;32m~/anaconda3/envs/lapa/lib/python3.9/site-packages/pandas/io/common.py\u001b[0m in \u001b[0;36mget_handle\u001b[0;34m(path_or_buf, mode, encoding, compression, memory_map, is_text, errors, storage_options)\u001b[0m\n\u001b[1;32m    700\u001b[0m         \u001b[0;32mif\u001b[0m \u001b[0mioargs\u001b[0m\u001b[0;34m.\u001b[0m\u001b[0mencoding\u001b[0m \u001b[0;32mand\u001b[0m \u001b[0;34m\"b\"\u001b[0m \u001b[0;32mnot\u001b[0m \u001b[0;32min\u001b[0m \u001b[0mioargs\u001b[0m\u001b[0;34m.\u001b[0m\u001b[0mmode\u001b[0m\u001b[0;34m:\u001b[0m\u001b[0;34m\u001b[0m\u001b[0;34m\u001b[0m\u001b[0m\n\u001b[1;32m    701\u001b[0m             \u001b[0;31m# Encoding\u001b[0m\u001b[0;34m\u001b[0m\u001b[0;34m\u001b[0m\u001b[0m\n\u001b[0;32m--> 702\u001b[0;31m             handle = open(\n\u001b[0m\u001b[1;32m    703\u001b[0m                 \u001b[0mhandle\u001b[0m\u001b[0;34m,\u001b[0m\u001b[0;34m\u001b[0m\u001b[0;34m\u001b[0m\u001b[0m\n\u001b[1;32m    704\u001b[0m                 \u001b[0mioargs\u001b[0m\u001b[0;34m.\u001b[0m\u001b[0mmode\u001b[0m\u001b[0;34m,\u001b[0m\u001b[0;34m\u001b[0m\u001b[0;34m\u001b[0m\u001b[0m\n",
      "\u001b[0;31mFileNotFoundError\u001b[0m: [Errno 2] No such file or directory: '/home/cs/Projects/lapa/data/resources/c2c12/bulk_talon_abundance.tsv'"
     ]
    }
   ],
   "source": [
    "df_abundance = pd.read_csv(snakemake.input['abundance'], sep='\\t')"
   ]
  },
  {
   "cell_type": "code",
   "execution_count": null,
   "id": "cfa2f11c",
   "metadata": {},
   "outputs": [],
   "source": [
    "df_count = df_abundance.rename(columns={'annot_gene_id': 'gene_id'}).groupby('gene_id')[samples].agg('sum')"
   ]
  },
  {
   "cell_type": "code",
   "execution_count": null,
   "id": "d4dbe278",
   "metadata": {},
   "outputs": [],
   "source": [
    "df_count['dif'] = df_count[['PB213', 'PB214']].sum(axis=1)\n",
    "df_count['undif'] = df_count[['PB154', 'PB155']].sum(axis=1)\n",
    "df_count['log(FC)'] = np.log(df_count['dif'] / df_count['undif'])\n",
    "df_count['total'] = df_count['dif'] + df_count['undif']"
   ]
  },
  {
   "cell_type": "code",
   "execution_count": null,
   "id": "ac662278",
   "metadata": {},
   "outputs": [],
   "source": [
    "df_count"
   ]
  },
  {
   "cell_type": "code",
   "execution_count": 3,
   "id": "312a87e7",
   "metadata": {},
   "outputs": [
    {
     "name": "stderr",
     "output_type": "stream",
     "text": [
      "100%|████████████████████████████████████████████████████████████████████████████████████████████████████████████████████████████████████████████████████████████████████████████████████████████████████████████████████████████████████████████████| 14371/14371 [01:39<00:00, 144.87it/s]\n"
     ]
    }
   ],
   "source": [
    "result = LapaResult(snakemake.input['long_read'])\n",
    "df = result.fisher_exact_test({'undif': ['PB154', 'PB155'], 'dif': ['PB213', 'PB214']}, min_gene_count=50)"
   ]
  },
  {
   "cell_type": "code",
   "execution_count": null,
   "id": "4c2674a5",
   "metadata": {},
   "outputs": [],
   "source": [
    "chrom, pos, strand = zip(*df.reset_index().rename(columns={'index': 'polya_site'})['polya_site'].str.split(':'))\n",
    "df['Chromosome'] = chrom\n",
    "df['Start'] = pos\n",
    "df['Start'] = df['Start'].astype(int)\n",
    "df['End'] = df['Start'] + 1\n",
    "df['Strand'] = strand"
   ]
  },
  {
   "cell_type": "code",
   "execution_count": 32,
   "id": "cf5f95ea",
   "metadata": {},
   "outputs": [],
   "source": [
    "df = df[(df['delta_usage'].abs() > 0.3) & (df['pval_adj'] < 0.05)]"
   ]
  },
  {
   "cell_type": "code",
   "execution_count": 35,
   "id": "05f181a2",
   "metadata": {},
   "outputs": [
    {
     "data": {
      "text/html": [
       "<div>\n",
       "<style scoped>\n",
       "    .dataframe tbody tr th:only-of-type {\n",
       "        vertical-align: middle;\n",
       "    }\n",
       "\n",
       "    .dataframe tbody tr th {\n",
       "        vertical-align: top;\n",
       "    }\n",
       "\n",
       "    .dataframe thead th {\n",
       "        text-align: right;\n",
       "    }\n",
       "</style>\n",
       "<table border=\"1\" class=\"dataframe\">\n",
       "  <thead>\n",
       "    <tr style=\"text-align: right;\">\n",
       "      <th></th>\n",
       "      <th>odds_ratio</th>\n",
       "      <th>pval</th>\n",
       "      <th>delta_usage</th>\n",
       "      <th>gene_id</th>\n",
       "      <th>pval_adj</th>\n",
       "      <th>Chromosome</th>\n",
       "      <th>Start</th>\n",
       "      <th>End</th>\n",
       "      <th>Strand</th>\n",
       "    </tr>\n",
       "  </thead>\n",
       "  <tbody>\n",
       "    <tr>\n",
       "      <th>chr10:100100411:+</th>\n",
       "      <td>0.137313</td>\n",
       "      <td>4.701520e-03</td>\n",
       "      <td>-0.359279</td>\n",
       "      <td>ENSMUSG00000019966.18</td>\n",
       "      <td>1.595785e-02</td>\n",
       "      <td>chr10</td>\n",
       "      <td>100100411</td>\n",
       "      <td>100100412</td>\n",
       "      <td>+</td>\n",
       "    </tr>\n",
       "    <tr>\n",
       "      <th>chr10:100443913:-</th>\n",
       "      <td>0.095238</td>\n",
       "      <td>9.124634e-05</td>\n",
       "      <td>-0.543594</td>\n",
       "      <td>ENSMUSG00000036676.14</td>\n",
       "      <td>4.602672e-04</td>\n",
       "      <td>chr10</td>\n",
       "      <td>100443913</td>\n",
       "      <td>100443914</td>\n",
       "      <td>-</td>\n",
       "    </tr>\n",
       "    <tr>\n",
       "      <th>chr10:108261036:+</th>\n",
       "      <td>15.272340</td>\n",
       "      <td>5.075524e-25</td>\n",
       "      <td>0.557175</td>\n",
       "      <td>ENSMUSG00000019907.10</td>\n",
       "      <td>1.624507e-23</td>\n",
       "      <td>chr10</td>\n",
       "      <td>108261036</td>\n",
       "      <td>108261037</td>\n",
       "      <td>+</td>\n",
       "    </tr>\n",
       "    <tr>\n",
       "      <th>chr10:111297247:+</th>\n",
       "      <td>0.177489</td>\n",
       "      <td>3.617802e-03</td>\n",
       "      <td>-0.403852</td>\n",
       "      <td>ENSMUSG00000020189.15</td>\n",
       "      <td>1.264831e-02</td>\n",
       "      <td>chr10</td>\n",
       "      <td>111297247</td>\n",
       "      <td>111297248</td>\n",
       "      <td>+</td>\n",
       "    </tr>\n",
       "    <tr>\n",
       "      <th>chr10:120231659:+</th>\n",
       "      <td>0.224090</td>\n",
       "      <td>3.044290e-09</td>\n",
       "      <td>-0.333348</td>\n",
       "      <td>ENSMUSG00000020224.15</td>\n",
       "      <td>3.008906e-08</td>\n",
       "      <td>chr10</td>\n",
       "      <td>120231659</td>\n",
       "      <td>120231660</td>\n",
       "      <td>+</td>\n",
       "    </tr>\n",
       "    <tr>\n",
       "      <th>...</th>\n",
       "      <td>...</td>\n",
       "      <td>...</td>\n",
       "      <td>...</td>\n",
       "      <td>...</td>\n",
       "      <td>...</td>\n",
       "      <td>...</td>\n",
       "      <td>...</td>\n",
       "      <td>...</td>\n",
       "      <td>...</td>\n",
       "    </tr>\n",
       "    <tr>\n",
       "      <th>chrX:74014998:-</th>\n",
       "      <td>30.000000</td>\n",
       "      <td>1.244682e-07</td>\n",
       "      <td>0.677186</td>\n",
       "      <td>ENSMUSG00000031392.18</td>\n",
       "      <td>1.003215e-06</td>\n",
       "      <td>chrX</td>\n",
       "      <td>74014998</td>\n",
       "      <td>74014999</td>\n",
       "      <td>-</td>\n",
       "    </tr>\n",
       "    <tr>\n",
       "      <th>chrX:77660095:+</th>\n",
       "      <td>3.814893</td>\n",
       "      <td>2.521792e-08</td>\n",
       "      <td>0.308248</td>\n",
       "      <td>ENSMUSG00000025246.13</td>\n",
       "      <td>2.227454e-07</td>\n",
       "      <td>chrX</td>\n",
       "      <td>77660095</td>\n",
       "      <td>77660096</td>\n",
       "      <td>+</td>\n",
       "    </tr>\n",
       "    <tr>\n",
       "      <th>chrX:77662984:+</th>\n",
       "      <td>0.219501</td>\n",
       "      <td>4.427994e-10</td>\n",
       "      <td>-0.334317</td>\n",
       "      <td>ENSMUSG00000025246.13</td>\n",
       "      <td>4.809879e-09</td>\n",
       "      <td>chrX</td>\n",
       "      <td>77662984</td>\n",
       "      <td>77662985</td>\n",
       "      <td>+</td>\n",
       "    </tr>\n",
       "    <tr>\n",
       "      <th>chrX:95935326:-</th>\n",
       "      <td>0.062101</td>\n",
       "      <td>6.620729e-32</td>\n",
       "      <td>-0.385167</td>\n",
       "      <td>ENSMUSG00000057421.12</td>\n",
       "      <td>2.828810e-30</td>\n",
       "      <td>chrX</td>\n",
       "      <td>95935326</td>\n",
       "      <td>95935327</td>\n",
       "      <td>-</td>\n",
       "    </tr>\n",
       "    <tr>\n",
       "      <th>chrX:97333842:-</th>\n",
       "      <td>0.101537</td>\n",
       "      <td>3.307284e-16</td>\n",
       "      <td>-0.380255</td>\n",
       "      <td>ENSMUSG00000034457.10</td>\n",
       "      <td>6.253812e-15</td>\n",
       "      <td>chrX</td>\n",
       "      <td>97333842</td>\n",
       "      <td>97333843</td>\n",
       "      <td>-</td>\n",
       "    </tr>\n",
       "  </tbody>\n",
       "</table>\n",
       "<p>1014 rows × 9 columns</p>\n",
       "</div>"
      ],
      "text/plain": [
       "                   odds_ratio          pval  delta_usage  \\\n",
       "chr10:100100411:+    0.137313  4.701520e-03    -0.359279   \n",
       "chr10:100443913:-    0.095238  9.124634e-05    -0.543594   \n",
       "chr10:108261036:+   15.272340  5.075524e-25     0.557175   \n",
       "chr10:111297247:+    0.177489  3.617802e-03    -0.403852   \n",
       "chr10:120231659:+    0.224090  3.044290e-09    -0.333348   \n",
       "...                       ...           ...          ...   \n",
       "chrX:74014998:-     30.000000  1.244682e-07     0.677186   \n",
       "chrX:77660095:+      3.814893  2.521792e-08     0.308248   \n",
       "chrX:77662984:+      0.219501  4.427994e-10    -0.334317   \n",
       "chrX:95935326:-      0.062101  6.620729e-32    -0.385167   \n",
       "chrX:97333842:-      0.101537  3.307284e-16    -0.380255   \n",
       "\n",
       "                                 gene_id      pval_adj Chromosome      Start  \\\n",
       "chr10:100100411:+  ENSMUSG00000019966.18  1.595785e-02      chr10  100100411   \n",
       "chr10:100443913:-  ENSMUSG00000036676.14  4.602672e-04      chr10  100443913   \n",
       "chr10:108261036:+  ENSMUSG00000019907.10  1.624507e-23      chr10  108261036   \n",
       "chr10:111297247:+  ENSMUSG00000020189.15  1.264831e-02      chr10  111297247   \n",
       "chr10:120231659:+  ENSMUSG00000020224.15  3.008906e-08      chr10  120231659   \n",
       "...                                  ...           ...        ...        ...   \n",
       "chrX:74014998:-    ENSMUSG00000031392.18  1.003215e-06       chrX   74014998   \n",
       "chrX:77660095:+    ENSMUSG00000025246.13  2.227454e-07       chrX   77660095   \n",
       "chrX:77662984:+    ENSMUSG00000025246.13  4.809879e-09       chrX   77662984   \n",
       "chrX:95935326:-    ENSMUSG00000057421.12  2.828810e-30       chrX   95935326   \n",
       "chrX:97333842:-    ENSMUSG00000034457.10  6.253812e-15       chrX   97333842   \n",
       "\n",
       "                         End Strand  \n",
       "chr10:100100411:+  100100412      +  \n",
       "chr10:100443913:-  100443914      -  \n",
       "chr10:108261036:+  108261037      +  \n",
       "chr10:111297247:+  111297248      +  \n",
       "chr10:120231659:+  120231660      +  \n",
       "...                      ...    ...  \n",
       "chrX:74014998:-     74014999      -  \n",
       "chrX:77660095:+     77660096      +  \n",
       "chrX:77662984:+     77662985      +  \n",
       "chrX:95935326:-     95935327      -  \n",
       "chrX:97333842:-     97333843      -  \n",
       "\n",
       "[1014 rows x 9 columns]"
      ]
     },
     "execution_count": 35,
     "metadata": {},
     "output_type": "execute_result"
    }
   ],
   "source": [
    "df"
   ]
  },
  {
   "cell_type": "code",
   "execution_count": 36,
   "id": "30e26cf7",
   "metadata": {},
   "outputs": [],
   "source": [
    "df.loc[df[df['Strand'] == '+'].groupby('gene_id')['End'].idxmax(), 'distal'] = True\n",
    "df.loc[df[df['Strand'] == '-'].groupby('gene_id')['Start'].idxmin(), 'distal'] = True\n",
    "df['distal'] = ~df['distal'].isna()"
   ]
  },
  {
   "cell_type": "code",
   "execution_count": 37,
   "id": "60dc3b8b",
   "metadata": {},
   "outputs": [
    {
     "data": {
      "text/plain": [
       "(734, 1014)"
      ]
     },
     "execution_count": 37,
     "metadata": {},
     "output_type": "execute_result"
    }
   ],
   "source": [
    "df['distal'].sum(), df.shape[0]"
   ]
  },
  {
   "cell_type": "code",
   "execution_count": 21,
   "id": "3796e163",
   "metadata": {},
   "outputs": [],
   "source": [
    "df = df.set_index('gene_id').join(df_count)"
   ]
  },
  {
   "cell_type": "code",
   "execution_count": 24,
   "id": "a74ca718",
   "metadata": {},
   "outputs": [
    {
     "data": {
      "text/plain": [
       "gene_id\n",
       "ENSMUSG00000000078.7     False\n",
       "ENSMUSG00000000078.7      True\n",
       "ENSMUSG00000000223.13    False\n",
       "ENSMUSG00000000223.13     True\n",
       "ENSMUSG00000000253.13     True\n",
       "                         ...  \n",
       "ENSMUSG00000111497.1      True\n",
       "ENSMUSG00000111497.1     False\n",
       "ENSMUSG00000114797.1      True\n",
       "ENSMUSG00000116275.1      True\n",
       "ENSMUSG00000116275.1     False\n",
       "Name: distal, Length: 861, dtype: bool"
      ]
     },
     "execution_count": 24,
     "metadata": {},
     "output_type": "execute_result"
    }
   ],
   "source": [
    "df['distal']"
   ]
  },
  {
   "cell_type": "code",
   "execution_count": 25,
   "id": "ea0dd592",
   "metadata": {},
   "outputs": [],
   "source": [
    "_df = df[df['distal']]"
   ]
  },
  {
   "cell_type": "code",
   "execution_count": 35,
   "id": "bd11a36e",
   "metadata": {},
   "outputs": [],
   "source": [
    "df_boxplot = df[['usage_undif', 'usage_dif']].melt()"
   ]
  },
  {
   "cell_type": "code",
   "execution_count": 36,
   "id": "cfcf2f67",
   "metadata": {},
   "outputs": [
    {
     "data": {
      "text/html": [
       "<div>\n",
       "<style scoped>\n",
       "    .dataframe tbody tr th:only-of-type {\n",
       "        vertical-align: middle;\n",
       "    }\n",
       "\n",
       "    .dataframe tbody tr th {\n",
       "        vertical-align: top;\n",
       "    }\n",
       "\n",
       "    .dataframe thead th {\n",
       "        text-align: right;\n",
       "    }\n",
       "</style>\n",
       "<table border=\"1\" class=\"dataframe\">\n",
       "  <thead>\n",
       "    <tr style=\"text-align: right;\">\n",
       "      <th></th>\n",
       "      <th>variable</th>\n",
       "      <th>value</th>\n",
       "    </tr>\n",
       "  </thead>\n",
       "  <tbody>\n",
       "    <tr>\n",
       "      <th>0</th>\n",
       "      <td>usage_undif</td>\n",
       "      <td>0.741784</td>\n",
       "    </tr>\n",
       "    <tr>\n",
       "      <th>1</th>\n",
       "      <td>usage_undif</td>\n",
       "      <td>0.248826</td>\n",
       "    </tr>\n",
       "    <tr>\n",
       "      <th>2</th>\n",
       "      <td>usage_undif</td>\n",
       "      <td>0.832061</td>\n",
       "    </tr>\n",
       "    <tr>\n",
       "      <th>3</th>\n",
       "      <td>usage_undif</td>\n",
       "      <td>0.083969</td>\n",
       "    </tr>\n",
       "    <tr>\n",
       "      <th>4</th>\n",
       "      <td>usage_undif</td>\n",
       "      <td>1.000000</td>\n",
       "    </tr>\n",
       "    <tr>\n",
       "      <th>...</th>\n",
       "      <td>...</td>\n",
       "      <td>...</td>\n",
       "    </tr>\n",
       "    <tr>\n",
       "      <th>1717</th>\n",
       "      <td>usage_dif</td>\n",
       "      <td>0.810127</td>\n",
       "    </tr>\n",
       "    <tr>\n",
       "      <th>1718</th>\n",
       "      <td>usage_dif</td>\n",
       "      <td>0.139241</td>\n",
       "    </tr>\n",
       "    <tr>\n",
       "      <th>1719</th>\n",
       "      <td>usage_dif</td>\n",
       "      <td>0.337423</td>\n",
       "    </tr>\n",
       "    <tr>\n",
       "      <th>1720</th>\n",
       "      <td>usage_dif</td>\n",
       "      <td>0.608483</td>\n",
       "    </tr>\n",
       "    <tr>\n",
       "      <th>1721</th>\n",
       "      <td>usage_dif</td>\n",
       "      <td>0.246330</td>\n",
       "    </tr>\n",
       "  </tbody>\n",
       "</table>\n",
       "<p>1722 rows × 2 columns</p>\n",
       "</div>"
      ],
      "text/plain": [
       "         variable     value\n",
       "0     usage_undif  0.741784\n",
       "1     usage_undif  0.248826\n",
       "2     usage_undif  0.832061\n",
       "3     usage_undif  0.083969\n",
       "4     usage_undif  1.000000\n",
       "...           ...       ...\n",
       "1717    usage_dif  0.810127\n",
       "1718    usage_dif  0.139241\n",
       "1719    usage_dif  0.337423\n",
       "1720    usage_dif  0.608483\n",
       "1721    usage_dif  0.246330\n",
       "\n",
       "[1722 rows x 2 columns]"
      ]
     },
     "execution_count": 36,
     "metadata": {},
     "output_type": "execute_result"
    }
   ],
   "source": [
    "df_boxplot"
   ]
  },
  {
   "cell_type": "code",
   "execution_count": 37,
   "id": "9fc1fcca",
   "metadata": {},
   "outputs": [
    {
     "data": {
      "text/plain": [
       "<AxesSubplot:xlabel='variable', ylabel='value'>"
      ]
     },
     "execution_count": 37,
     "metadata": {},
     "output_type": "execute_result"
    },
    {
     "data": {
      "image/png": "[encoded data removed]",
      "text/plain": [
       "<Figure size 432x288 with 1 Axes>"
      ]
     },
     "metadata": {
      "needs_background": "light"
     },
     "output_type": "display_data"
    }
   ],
   "source": [
    "import seaborn as sns\n",
    "\n",
    "sns.boxplot(data=df_boxplot, x='variable', y='value')"
   ]
  },
  {
   "cell_type": "code",
   "execution_count": 51,
   "id": "bc21e5d0",
   "metadata": {},
   "outputs": [],
   "source": [
    "from scipy.stats import mannwhitneyu"
   ]
  },
  {
   "cell_type": "code",
   "execution_count": 54,
   "id": "57060c19",
   "metadata": {},
   "outputs": [
    {
     "data": {
      "text/plain": [
       "gene_id\n",
       "ENSMUSG00000000253.13    1.575536\n",
       "ENSMUSG00000000567.5     0.053776\n",
       "ENSMUSG00000000686.11    1.481605\n",
       "ENSMUSG00000000787.12   -0.266140\n",
       "ENSMUSG00000000976.13    0.158470\n",
       "                           ...   \n",
       "ENSMUSG00000092329.1     1.884683\n",
       "ENSMUSG00000096199.2     0.503104\n",
       "ENSMUSG00000096740.8    -0.587787\n",
       "ENSMUSG00000111409.1     4.248495\n",
       "ENSMUSG00000114797.1    -1.293246\n",
       "Name: log(FC), Length: 236, dtype: float64"
      ]
     },
     "execution_count": 54,
     "metadata": {},
     "output_type": "execute_result"
    }
   ],
   "source": [
    "_df[_df['Distal polyA-site usage'] == 'less']['log(FC)']"
   ]
  },
  {
   "cell_type": "code",
   "execution_count": 55,
   "id": "166d52bb",
   "metadata": {},
   "outputs": [
    {
     "data": {
      "text/plain": [
       "gene_id\n",
       "ENSMUSG00000000078.7    -1.495109\n",
       "ENSMUSG00000000223.13   -0.576091\n",
       "ENSMUSG00000000957.11   -0.590052\n",
       "ENSMUSG00000001016.12   -1.229014\n",
       "ENSMUSG00000001151.10   -0.491540\n",
       "                           ...   \n",
       "ENSMUSG00000102976.6     0.667246\n",
       "ENSMUSG00000106106.3          NaN\n",
       "ENSMUSG00000111080.1     3.569533\n",
       "ENSMUSG00000111497.1    -2.233592\n",
       "ENSMUSG00000116275.1    -1.039423\n",
       "Name: log(FC), Length: 357, dtype: float64"
      ]
     },
     "execution_count": 55,
     "metadata": {},
     "output_type": "execute_result"
    }
   ],
   "source": [
    "_df[_df['Distal polyA-site usage'] == 'more']['log(FC)']"
   ]
  },
  {
   "cell_type": "code",
   "execution_count": 60,
   "id": "4d8af72c",
   "metadata": {},
   "outputs": [],
   "source": [
    "_df = _df.dropna(subset=['log(FC)'])"
   ]
  },
  {
   "cell_type": "code",
   "execution_count": 61,
   "id": "43975419",
   "metadata": {},
   "outputs": [
    {
     "name": "stderr",
     "output_type": "stream",
     "text": [
      "/data/homezvol2/mcelik/.conda/envs/lapa/lib/python3.7/site-packages/ipykernel_launcher.py:1: SettingWithCopyWarning: \n",
      "A value is trying to be set on a copy of a slice from a DataFrame.\n",
      "Try using .loc[row_indexer,col_indexer] = value instead\n",
      "\n",
      "See the caveats in the documentation: https://pandas.pydata.org/pandas-docs/stable/user_guide/indexing.html#returning-a-view-versus-a-copy\n",
      "  \"\"\"Entry point for launching an IPython kernel.\n"
     ]
    },
    {
     "data": {
      "text/plain": [
       "MannwhitneyuResult(statistic=28458.0, pvalue=1.3773901182186508e-08)"
      ]
     },
     "execution_count": 61,
     "metadata": {},
     "output_type": "execute_result"
    },
    {
     "data": {
      "image/png": "[encoded data removed]",
      "text/plain": [
       "<Figure size 1500x1500 with 1 Axes>"
      ]
     },
     "metadata": {
      "needs_background": "light"
     },
     "output_type": "display_data"
    }
   ],
   "source": [
    "_df['Distal polyA-site usage'] = np.where(_df['delta_usage'] > 0, 'more', 'less')\n",
    "\n",
    "plt.figure(figsize=(5, 5), dpi=300)\n",
    "\n",
    "sns.boxplot(data=_df, x='Distal polyA-site usage', y='log(FC)')\n",
    "\n",
    "mannwhitneyu(\n",
    "    _df[_df['Distal polyA-site usage'] == 'more']['log(FC)'],\n",
    "    _df[_df['Distal polyA-site usage'] == 'less']['log(FC)']\n",
    ")"
   ]
  },
  {
   "cell_type": "code",
   "execution_count": null,
   "id": "3c0f2d96",
   "metadata": {},
   "outputs": [],
   "source": []
  }
 ],
 "metadata": {
  "kernelspec": {
   "display_name": "Python 3 (ipykernel)",
   "language": "python",
   "name": "python3"
  },
  "language_info": {
   "codemirror_mode": {
    "name": "ipython",
    "version": 3
   },
   "file_extension": ".py",
   "mimetype": "text/x-python",
   "name": "python",
   "nbconvert_exporter": "python",
   "pygments_lexer": "ipython3",
   "version": "3.9.7"
  }
 },
 "nbformat": 4,
 "nbformat_minor": 5
}
