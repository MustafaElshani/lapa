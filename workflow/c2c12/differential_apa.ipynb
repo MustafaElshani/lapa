{
 "cells": [
  {
   "cell_type": "code",
   "execution_count": null,
   "id": "76ece0da",
   "metadata": {},
   "outputs": [],
   "source": [
    "import os\n",
    "\n",
    "try:\n",
    "    snakemake\n",
    "except NameError:\n",
    "    from snakemk_util import load_rule_args\n",
    "    \n",
    "    os.chdir('../..')\n",
    "    \n",
    "    snakemake = load_rule_args(\n",
    "        snakefile = os.getcwd() + \"/workflow/Snakefile\",\n",
    "        rule_name = 'differential_apa_c2c12',\n",
    "        root = '..',\n",
    "    )"
   ]
  },
  {
   "cell_type": "code",
   "execution_count": null,
   "id": "065245e3",
   "metadata": {},
   "outputs": [],
   "source": [
    "import numpy as np\n",
    "import pandas as pd\n",
    "import seaborn as sns\n",
    "from lapa.result import LapaResult\n",
    "from met_brewer import met_brew\n",
    "import matplotlib.pyplot as plt\n",
    "\n",
    "sns.set_context('poster')"
   ]
  },
  {
   "cell_type": "code",
   "execution_count": null,
   "id": "b5e641fe",
   "metadata": {},
   "outputs": [],
   "source": [
    "result = LapaResult(snakemake.input['long_read'])\n",
    "samples = result.samples"
   ]
  },
  {
   "cell_type": "code",
   "execution_count": null,
   "id": "b0f66d93",
   "metadata": {},
   "outputs": [],
   "source": [
    "df = result.fisher_exact_test({'undif': ['PB154', 'PB155'], 'dif': ['PB213', 'PB214']}, min_gene_count=50)"
   ]
  },
  {
   "cell_type": "code",
   "execution_count": null,
   "id": "3e41054f",
   "metadata": {},
   "outputs": [],
   "source": [
    "df['-log10(p-value corrected)'] = -np.log10(df['pval_adj'])"
   ]
  },
  {
   "cell_type": "code",
   "execution_count": null,
   "id": "e5895ed3",
   "metadata": {},
   "outputs": [],
   "source": [
    "df = df.reset_index().rename(columns={'index': 'polya_site'})\n",
    "df = df.merge(pd.read_csv(snakemake.input['mapping']), on='gene_id')"
   ]
  },
  {
   "cell_type": "code",
   "execution_count": null,
   "id": "b3aff95a",
   "metadata": {},
   "outputs": [],
   "source": [
    "from adjustText import adjust_text\n",
    "\n",
    "df['significant'] = np.where(\n",
    "    (df['delta_usage'].abs() > 0.3) & (df['pval_adj'] < 0.05),\n",
    "    np.where(df['delta_usage'] > 0.3, 'Up', 'Down'),\n",
    "    'No Sig.'\n",
    ")\n",
    "\n",
    "colors = met_brew('Cassatt1', n=7, brew_type=\"continuous\")\n",
    "\n",
    "plt.figure(dpi=300, figsize=(10, 10))\n",
    "\n",
    "sns.scatterplot(data=df, x='delta_usage', y='-log10(p-value corrected)', hue='significant',\n",
    "                s = 40 * (df['significant'] != 'No Sig.') + 20, \n",
    "                palette = ['gray', colors[-1], colors[0]], \n",
    "                alpha = list(0.5 + (df['significant'] != 'No Sig.') * 0.5))\n",
    "\n",
    "plt.legend(title=None, bbox_to_anchor=(0.95, 0.6))\n",
    "plt.xlabel('$\\Delta usage$')\n",
    "plt.ylabel('$-\\log_{10}(P_{corrected})$')\n",
    "\n",
    "_df = df[(df['delta_usage'].abs() > 0.3) & (df['-log10(p-value corrected)'] > 150)]\n",
    "\n",
    "text = [\n",
    "    plt.text(row['delta_usage'], row['-log10(p-value corrected)'], row['gene_name'], fontsize=20)\n",
    "    for _, row in _df.iterrows()\n",
    "]\n",
    "adjust_text(text)\n",
    "sns.despine(offset=10, trim=True)\n",
    "\n",
    "plt.savefig(snakemake.output['volcona_plot'], dpi=400, bbox_inches='tight', transparent=True)"
   ]
  },
  {
   "cell_type": "code",
   "execution_count": null,
   "id": "24ae0d5e",
   "metadata": {},
   "outputs": [],
   "source": [
    "df = df.loc[df.groupby('gene_id')['pval_adj'].idxmin()]\n",
    "df = df[(df['pval_adj'] < 0.05) & (df['delta_usage'].abs() > 0.3)]"
   ]
  },
  {
   "cell_type": "code",
   "execution_count": null,
   "id": "23b22c3d",
   "metadata": {},
   "outputs": [],
   "source": [
    "df.sort_values('delta_usage')"
   ]
  },
  {
   "cell_type": "code",
   "execution_count": null,
   "id": "4f8b0103",
   "metadata": {},
   "outputs": [],
   "source": [
    "usage = result.attribute('usage').loc[df['polya_site']][['PB154', 'PB155', 'PB213', 'PB214']]"
   ]
  },
  {
   "cell_type": "code",
   "execution_count": null,
   "id": "b9844960",
   "metadata": {
    "scrolled": false
   },
   "outputs": [],
   "source": [
    "import seaborn as sns\n",
    "import matplotlib.patches as mpatches\n",
    "\n",
    "colors = met_brew('Cassatt1', n=9, brew_type=\"continuous\")[::-1]\n",
    "\n",
    "col_colors = met_brew('Nattier')\n",
    "col_colors = [col_colors[2], col_colors[4]]\n",
    "\n",
    "fig = sns.clustermap(usage.fillna(0), figsize=(9, 12),\n",
    "                     col_colors=[col_colors[0], col_colors[0], col_colors[1], col_colors[1]],\n",
    "                     xticklabels=False, yticklabels=False, col_cluster=False,\n",
    "                     cmap=sns.color_palette(colors, as_cmap=True), \n",
    "                     cbar_pos=(-0.085, 0.8, 0.05, 0.18), dendrogram_ratio=(0.1, 0))\n",
    "\n",
    "fig.ax_heatmap.set_xlabel('Undifferentiated' + ' ' * 7 +'Differentiated')\n",
    "fig.ax_heatmap.set_ylabel('Poly(A)-site in each gene')\n",
    "\n",
    "plt.savefig(snakemake.output['heatmap_plot'], dpi=400, bbox_inches='tight', transparent=True)"
   ]
  }
 ],
 "metadata": {
  "kernelspec": {
   "display_name": "Python 3",
   "language": "python",
   "name": "python3"
  },
  "language_info": {
   "codemirror_mode": {
    "name": "ipython",
    "version": 3
   },
   "file_extension": ".py",
   "mimetype": "text/x-python",
   "name": "python",
   "nbconvert_exporter": "python",
   "pygments_lexer": "ipython3",
   "version": "3.8.8"
  }
 },
 "nbformat": 4,
 "nbformat_minor": 5
}
