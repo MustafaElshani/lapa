{
 "cells": [
  {
   "cell_type": "code",
   "execution_count": null,
   "id": "61879d99",
   "metadata": {},
   "outputs": [],
   "source": [
    "import os\n",
    "\n",
    "try:\n",
    "    snakemake\n",
    "except NameError:\n",
    "    from snakemk_util import load_rule_args\n",
    "    \n",
    "    os.chdir('../..')\n",
    "    \n",
    "    snakemake = load_rule_args(\n",
    "        snakefile = os.getcwd() + \"/workflow/Snakefile\",\n",
    "        rule_name = 'figure_6',\n",
    "        root = '..'\n",
    "    )"
   ]
  },
  {
   "cell_type": "code",
   "execution_count": null,
   "id": "063c068d",
   "metadata": {},
   "outputs": [],
   "source": [
    "import matplotlib.pyplot as plt\n",
    "import seaborn as sns\n",
    "import patchworklib as pw"
   ]
  },
  {
   "cell_type": "code",
   "execution_count": null,
   "id": "81bea8c1",
   "metadata": {},
   "outputs": [],
   "source": [
    "snakemake.input.keys()"
   ]
  },
  {
   "cell_type": "code",
   "execution_count": 5,
   "id": "e6208acf",
   "metadata": {},
   "outputs": [
    {
     "ename": "ValueError",
     "evalue": "'label' value should be unique in 'Brick._labelset'",
     "output_type": "error",
     "traceback": [
      "\u001b[0;31m---------------------------------------------------------------------------\u001b[0m",
      "\u001b[0;31mValueError\u001b[0m                                Traceback (most recent call last)",
      "\u001b[0;32m/tmp/ipykernel_81619/32195798.py\u001b[0m in \u001b[0;36m<module>\u001b[0;34m\u001b[0m\n\u001b[0;32m----> 1\u001b[0;31m \u001b[0max1\u001b[0m \u001b[0;34m=\u001b[0m \u001b[0mpw\u001b[0m\u001b[0;34m.\u001b[0m\u001b[0mBrick\u001b[0m\u001b[0;34m(\u001b[0m\u001b[0;34m\"ax1\"\u001b[0m\u001b[0;34m,\u001b[0m \u001b[0mfigsize\u001b[0m\u001b[0;34m=\u001b[0m\u001b[0;34m(\u001b[0m\u001b[0;36m15\u001b[0m\u001b[0;34m,\u001b[0m \u001b[0;36m15\u001b[0m\u001b[0;34m)\u001b[0m\u001b[0;34m)\u001b[0m\u001b[0;34m\u001b[0m\u001b[0;34m\u001b[0m\u001b[0m\n\u001b[0m\u001b[1;32m      2\u001b[0m \u001b[0max1\u001b[0m\u001b[0;34m.\u001b[0m\u001b[0mimshow\u001b[0m\u001b[0;34m(\u001b[0m\u001b[0mplt\u001b[0m\u001b[0;34m.\u001b[0m\u001b[0mimread\u001b[0m\u001b[0;34m(\u001b[0m\u001b[0msnakemake\u001b[0m\u001b[0;34m.\u001b[0m\u001b[0minput\u001b[0m\u001b[0;34m[\u001b[0m\u001b[0;34m'differential'\u001b[0m\u001b[0;34m]\u001b[0m\u001b[0;34m)\u001b[0m\u001b[0;34m)\u001b[0m\u001b[0;34m\u001b[0m\u001b[0;34m\u001b[0m\u001b[0m\n\u001b[1;32m      3\u001b[0m \u001b[0max1\u001b[0m\u001b[0;34m.\u001b[0m\u001b[0maxis\u001b[0m\u001b[0;34m(\u001b[0m\u001b[0;34m'off'\u001b[0m\u001b[0;34m)\u001b[0m\u001b[0;34m\u001b[0m\u001b[0;34m\u001b[0m\u001b[0m\n\u001b[1;32m      4\u001b[0m \u001b[0max1\u001b[0m\u001b[0;34m.\u001b[0m\u001b[0mset_title\u001b[0m\u001b[0;34m(\u001b[0m\u001b[0;34m'(a)'\u001b[0m\u001b[0;34m,\u001b[0m \u001b[0mfontsize\u001b[0m\u001b[0;34m=\u001b[0m\u001b[0;36m64\u001b[0m\u001b[0;34m)\u001b[0m\u001b[0;34m\u001b[0m\u001b[0;34m\u001b[0m\u001b[0m\n\u001b[1;32m      5\u001b[0m \u001b[0max1\u001b[0m\u001b[0;34m.\u001b[0m\u001b[0mtitle\u001b[0m\u001b[0;34m.\u001b[0m\u001b[0mset_x\u001b[0m\u001b[0;34m(\u001b[0m\u001b[0;36m0\u001b[0m\u001b[0;34m)\u001b[0m\u001b[0;34m\u001b[0m\u001b[0;34m\u001b[0m\u001b[0m\n",
      "\u001b[0;32m/pub/mcelik/anaconda/envs/lapa/lib/python3.8/site-packages/patchworklib/patchworklib.py\u001b[0m in \u001b[0;36m__init__\u001b[0;34m(self, label, figsize, ax)\u001b[0m\n\u001b[1;32m   1937\u001b[0m \u001b[0;34m\u001b[0m\u001b[0m\n\u001b[1;32m   1938\u001b[0m             \u001b[0;32mif\u001b[0m \u001b[0mlabel\u001b[0m \u001b[0;32min\u001b[0m \u001b[0mBrick\u001b[0m\u001b[0;34m.\u001b[0m\u001b[0m_labelset\u001b[0m\u001b[0;34m:\u001b[0m\u001b[0;34m\u001b[0m\u001b[0;34m\u001b[0m\u001b[0m\n\u001b[0;32m-> 1939\u001b[0;31m                 \u001b[0;32mraise\u001b[0m \u001b[0mValueError\u001b[0m\u001b[0;34m(\u001b[0m\u001b[0;34m\"'label' value should be unique in 'Brick._labelset'\"\u001b[0m\u001b[0;34m)\u001b[0m\u001b[0;34m\u001b[0m\u001b[0;34m\u001b[0m\u001b[0m\n\u001b[0m\u001b[1;32m   1940\u001b[0m             \u001b[0mBrick\u001b[0m\u001b[0;34m.\u001b[0m\u001b[0m_labelset\u001b[0m\u001b[0;34m.\u001b[0m\u001b[0madd\u001b[0m\u001b[0;34m(\u001b[0m\u001b[0mlabel\u001b[0m\u001b[0;34m)\u001b[0m\u001b[0;34m\u001b[0m\u001b[0;34m\u001b[0m\u001b[0m\n\u001b[1;32m   1941\u001b[0m             \u001b[0mself\u001b[0m\u001b[0;34m.\u001b[0m\u001b[0mset_label\u001b[0m\u001b[0;34m(\u001b[0m\u001b[0mlabel\u001b[0m\u001b[0;34m)\u001b[0m\u001b[0;34m\u001b[0m\u001b[0;34m\u001b[0m\u001b[0m\n",
      "\u001b[0;31mValueError\u001b[0m: 'label' value should be unique in 'Brick._labelset'"
     ]
    }
   ],
   "source": [
    "ax1 = pw.Brick(\"ax1\", figsize=(15, 15))\n",
    "ax1.imshow(plt.imread(snakemake.input['differential']))\n",
    "ax1.axis('off')\n",
    "ax1.set_title('(a)', fontsize=64)\n",
    "ax1.title.set_x(0)\n",
    "\n",
    "ax2 = pw.Brick(\"ax2\", figsize=(15, 15))\n",
    "ax2.imshow(plt.imread(snakemake.input['heatmap']))\n",
    "ax2.axis('off')\n",
    "ax2.set_title('(b)', fontsize=64)\n",
    "ax2.title.set_x(0)\n",
    "\n",
    "ax3 = pw.Brick(\"ax3\", figsize=(15, 15))\n",
    "ax3.imshow(plt.imread(snakemake.input['volcona']))\n",
    "ax3.axis('off')\n",
    "ax3.set_title('(c)', fontsize=64)\n",
    "ax3.title.set_x(0)\n",
    "\n",
    "ax4 = pw.Brick(\"ax4\", figsize=(15, 15))\n",
    "ax4.imshow(plt.imread(snakemake.input['gene_fc']))\n",
    "ax4.axis('off')\n",
    "ax4.set_title('(d)', fontsize=64)\n",
    "ax4.title.set_x(0)\n",
    "\n",
    "ax = (ax1 / ax2) | (ax3 | ax4)\n",
    "ax.savefig(snakemake.output['fig'])"
   ]
  },
  {
   "cell_type": "code",
   "execution_count": null,
   "id": "1482a33c",
   "metadata": {},
   "outputs": [],
   "source": []
  }
 ],
 "metadata": {
  "kernelspec": {
   "display_name": "Python 3 (ipykernel)",
   "language": "python",
   "name": "python3"
  },
  "language_info": {
   "codemirror_mode": {
    "name": "ipython",
    "version": 3
   },
   "file_extension": ".py",
   "mimetype": "text/x-python",
   "name": "python",
   "nbconvert_exporter": "python",
   "pygments_lexer": "ipython3",
   "version": "3.8.1"
  }
 },
 "nbformat": 4,
 "nbformat_minor": 5
}
