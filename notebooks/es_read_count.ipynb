{
 "cells": [
  {
   "cell_type": "code",
   "execution_count": 1,
   "id": "6901d186",
   "metadata": {},
   "outputs": [],
   "source": [
    "import matplotlib.pyplot as plt\n",
    "from lapa.count import PolyaTailCounter"
   ]
  },
  {
   "cell_type": "code",
   "execution_count": 2,
   "id": "11b54075",
   "metadata": {},
   "outputs": [],
   "source": [
    "ttc = PolyaTailCounter('../tests/data/short_chr17.bam', min_tail_len=1)"
   ]
  },
  {
   "cell_type": "code",
   "execution_count": null,
   "id": "966e14e0",
   "metadata": {
    "scrolled": false
   },
   "outputs": [
    {
     "name": "stderr",
     "output_type": "stream",
     "text": [
      "\r",
      "- 0 reads counted...\n"
     ]
    }
   ],
   "source": [
    "plt.figure(figsize=(3, 3), dpi=300)\n",
    "ttc.plot_tail_len_dist()\n",
    "plt.xscale('log')"
   ]
  }
 ],
 "metadata": {
  "kernelspec": {
   "display_name": "Python 3 (ipykernel)",
   "language": "python",
   "name": "python3"
  },
  "language_info": {
   "codemirror_mode": {
    "name": "ipython",
    "version": 3
   },
   "file_extension": ".py",
   "mimetype": "text/x-python",
   "name": "python",
   "nbconvert_exporter": "python",
   "pygments_lexer": "ipython3",
   "version": "3.9.7"
  }
 },
 "nbformat": 4,
 "nbformat_minor": 5
}
